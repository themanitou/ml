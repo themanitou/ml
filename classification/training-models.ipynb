{
 "cells": [
  {
   "cell_type": "code",
   "execution_count": 1,
   "id": "915addef-d222-4c59-a844-a2650b05a729",
   "metadata": {},
   "outputs": [],
   "source": [
    "import numpy as np\n",
    "\n",
    "X = 2 * np.random.rand(100, 1)\n",
    "y = 4 + 3 * X + np.random.randn(100, 1)"
   ]
  },
  {
   "cell_type": "code",
   "execution_count": 2,
   "id": "6546ed76-4e21-445c-9003-f69a42d3159e",
   "metadata": {},
   "outputs": [
    {
     "data": {
      "text/plain": [
       "(array([[0.19675444],\n",
       "        [0.54047721],\n",
       "        [1.03786571],\n",
       "        [1.35182035],\n",
       "        [1.58219097],\n",
       "        [0.52160503],\n",
       "        [0.18130134],\n",
       "        [0.57009386],\n",
       "        [0.45071884],\n",
       "        [0.53157068],\n",
       "        [1.6262726 ],\n",
       "        [0.36924833],\n",
       "        [1.15219343],\n",
       "        [0.72630617],\n",
       "        [0.72182679],\n",
       "        [1.9791927 ],\n",
       "        [1.60369121],\n",
       "        [0.99403426],\n",
       "        [0.60060598],\n",
       "        [0.83090231],\n",
       "        [1.03373248],\n",
       "        [0.56331205],\n",
       "        [0.2768625 ],\n",
       "        [0.47560159],\n",
       "        [1.33158278],\n",
       "        [1.1018815 ],\n",
       "        [1.57301214],\n",
       "        [1.16206168],\n",
       "        [0.98471039],\n",
       "        [1.87168423],\n",
       "        [0.55611384],\n",
       "        [0.8286711 ],\n",
       "        [0.2632916 ],\n",
       "        [1.47706585],\n",
       "        [1.94597587],\n",
       "        [0.16916379],\n",
       "        [0.35858882],\n",
       "        [1.29977602],\n",
       "        [0.59194649],\n",
       "        [0.4350041 ],\n",
       "        [1.51939382],\n",
       "        [1.67902759],\n",
       "        [1.59088153],\n",
       "        [0.5720722 ],\n",
       "        [0.71357591],\n",
       "        [0.46159538],\n",
       "        [0.98646026],\n",
       "        [1.36303308],\n",
       "        [1.92637132],\n",
       "        [0.03688067],\n",
       "        [1.63525944],\n",
       "        [0.38420643],\n",
       "        [0.8327569 ],\n",
       "        [0.97834823],\n",
       "        [1.58871491],\n",
       "        [0.85264495],\n",
       "        [0.57561118],\n",
       "        [1.45761737],\n",
       "        [0.19049019],\n",
       "        [0.17888679],\n",
       "        [0.89465526],\n",
       "        [0.65857208],\n",
       "        [1.57571061],\n",
       "        [1.88013177],\n",
       "        [0.85331902],\n",
       "        [0.34088793],\n",
       "        [1.9507296 ],\n",
       "        [0.30157129],\n",
       "        [1.40291811],\n",
       "        [0.35838424],\n",
       "        [1.00856052],\n",
       "        [1.34819257],\n",
       "        [1.35488834],\n",
       "        [1.99041353],\n",
       "        [1.6094614 ],\n",
       "        [1.27957875],\n",
       "        [1.30674323],\n",
       "        [0.14118669],\n",
       "        [1.84139509],\n",
       "        [0.39658432],\n",
       "        [0.54840065],\n",
       "        [1.49946433],\n",
       "        [0.11587528],\n",
       "        [1.97941748],\n",
       "        [0.79102505],\n",
       "        [0.11145048],\n",
       "        [0.79843545],\n",
       "        [1.74526579],\n",
       "        [1.73046423],\n",
       "        [1.80512103],\n",
       "        [1.4671763 ],\n",
       "        [1.47270359],\n",
       "        [1.15215261],\n",
       "        [1.75085549],\n",
       "        [1.66046825],\n",
       "        [1.42080417],\n",
       "        [0.00493745],\n",
       "        [1.33920889],\n",
       "        [0.96864287],\n",
       "        [0.1540001 ]]),\n",
       " array([[ 5.99678129],\n",
       "        [ 5.70190501],\n",
       "        [ 9.13075952],\n",
       "        [ 7.10340633],\n",
       "        [ 8.07821058],\n",
       "        [ 6.00266197],\n",
       "        [ 2.45450642],\n",
       "        [ 4.82530882],\n",
       "        [ 6.16576993],\n",
       "        [ 5.01301315],\n",
       "        [ 9.73602631],\n",
       "        [ 4.36178743],\n",
       "        [ 7.58375725],\n",
       "        [ 5.80090367],\n",
       "        [ 4.45259518],\n",
       "        [ 9.95312666],\n",
       "        [ 8.43638851],\n",
       "        [ 6.91465109],\n",
       "        [ 6.42081244],\n",
       "        [ 7.15411453],\n",
       "        [ 5.84171808],\n",
       "        [ 4.81516304],\n",
       "        [ 5.20016853],\n",
       "        [ 5.81267517],\n",
       "        [ 6.87337056],\n",
       "        [ 8.3904909 ],\n",
       "        [ 9.38833156],\n",
       "        [ 8.13842116],\n",
       "        [ 5.55000945],\n",
       "        [ 9.90147351],\n",
       "        [ 6.20764788],\n",
       "        [ 8.96684739],\n",
       "        [ 4.55474367],\n",
       "        [ 9.34171788],\n",
       "        [10.37407735],\n",
       "        [ 6.8107043 ],\n",
       "        [ 4.88945297],\n",
       "        [ 6.06160517],\n",
       "        [ 4.47169603],\n",
       "        [ 4.05980257],\n",
       "        [ 8.13772155],\n",
       "        [ 8.34869364],\n",
       "        [ 8.75491954],\n",
       "        [ 6.31228436],\n",
       "        [ 6.61618067],\n",
       "        [ 6.42466536],\n",
       "        [ 5.20243255],\n",
       "        [ 9.57066727],\n",
       "        [10.35223557],\n",
       "        [ 3.00508927],\n",
       "        [ 8.77666984],\n",
       "        [ 4.9239645 ],\n",
       "        [ 7.99740425],\n",
       "        [ 7.98289781],\n",
       "        [10.76692459],\n",
       "        [ 6.37017194],\n",
       "        [ 5.27721357],\n",
       "        [ 9.93313721],\n",
       "        [ 3.9933991 ],\n",
       "        [ 2.66558825],\n",
       "        [ 6.34715475],\n",
       "        [ 5.56178939],\n",
       "        [ 9.07166157],\n",
       "        [10.4936135 ],\n",
       "        [ 5.90186288],\n",
       "        [ 4.55117199],\n",
       "        [ 8.32152953],\n",
       "        [ 3.39488178],\n",
       "        [ 5.95968109],\n",
       "        [ 5.09488021],\n",
       "        [ 6.6299867 ],\n",
       "        [ 7.2304809 ],\n",
       "        [ 7.89638821],\n",
       "        [10.0304637 ],\n",
       "        [ 8.75458126],\n",
       "        [ 8.9165577 ],\n",
       "        [ 6.80357724],\n",
       "        [ 5.32348674],\n",
       "        [ 8.4203184 ],\n",
       "        [ 7.21457798],\n",
       "        [ 5.09573806],\n",
       "        [ 9.54677084],\n",
       "        [ 2.99638551],\n",
       "        [ 9.89333916],\n",
       "        [ 6.18986181],\n",
       "        [ 5.74098791],\n",
       "        [ 7.29039014],\n",
       "        [ 9.46244408],\n",
       "        [ 8.74302922],\n",
       "        [ 8.57400769],\n",
       "        [ 8.86062095],\n",
       "        [ 8.05074121],\n",
       "        [ 7.37288776],\n",
       "        [ 8.38315116],\n",
       "        [ 9.70862542],\n",
       "        [ 8.64653138],\n",
       "        [ 3.91193575],\n",
       "        [ 8.07963031],\n",
       "        [ 5.47571859],\n",
       "        [ 3.51149734]]))"
      ]
     },
     "execution_count": 2,
     "metadata": {},
     "output_type": "execute_result"
    }
   ],
   "source": [
    "X, y"
   ]
  },
  {
   "cell_type": "code",
   "execution_count": 3,
   "id": "e54dd0b6-81bb-4113-a346-ccb7b5379e78",
   "metadata": {},
   "outputs": [
    {
     "data": {
      "image/png": "[encoded data removed]",
      "text/plain": [
       "<Figure size 640x480 with 1 Axes>"
      ]
     },
     "metadata": {},
     "output_type": "display_data"
    }
   ],
   "source": [
    "import matplotlib as mpl\n",
    "import matplotlib.pyplot as plt\n",
    "\n",
    "plt.scatter(X, y, alpha=0.5)\n",
    "plt.ylim(0,)\n",
    "plt.xlabel('X')\n",
    "plt.ylabel('y')\n",
    "plt.show()"
   ]
  },
  {
   "cell_type": "code",
   "execution_count": 4,
   "id": "f3ddffaa-dd30-4d0f-9a6e-094efa7dbc60",
   "metadata": {},
   "outputs": [
    {
     "data": {
      "text/plain": [
       "array([[3.86503131],\n",
       "       [3.08059372]])"
      ]
     },
     "execution_count": 4,
     "metadata": {},
     "output_type": "execute_result"
    }
   ],
   "source": [
    "X_b = np.c_[np.ones((100,1)), X] # add x0 = 1 to each instance\n",
    "theta_best = np.linalg.inv(X_b.T.dot(X_b)).dot(X_b.T).dot(y)\n",
    "theta_best"
   ]
  },
  {
   "cell_type": "code",
   "execution_count": 5,
   "id": "2c79308e-0bdb-41c7-8c9a-afc6db9791be",
   "metadata": {},
   "outputs": [
    {
     "data": {
      "text/plain": [
       "array([[ 3.86503131],\n",
       "       [10.02621874]])"
      ]
     },
     "execution_count": 5,
     "metadata": {},
     "output_type": "execute_result"
    }
   ],
   "source": [
    "X_new = np.array([[0], [2]])\n",
    "X_new_b = np.c_[np.ones((2, 1)), X_new] # add x0 = 1 to each instance\n",
    "y_predict = X_new_b.dot(theta_best)\n",
    "y_predict"
   ]
  },
  {
   "cell_type": "code",
   "execution_count": 6,
   "id": "0a9e8072-681b-4d9c-8eb0-df0fa55910a3",
   "metadata": {},
   "outputs": [
    {
     "data": {
      "image/png": "[encoded data removed]",
      "text/plain": [
       "<Figure size 640x480 with 1 Axes>"
      ]
     },
     "metadata": {},
     "output_type": "display_data"
    }
   ],
   "source": [
    "plt.plot(X_new, y_predict, \"r-\")\n",
    "plt.plot(X, y, \"b.\")\n",
    "plt.axis([0, 2, 0, 15])\n",
    "plt.show()"
   ]
  },
  {
   "cell_type": "code",
   "execution_count": 7,
   "id": "2d543843-ff16-48a5-a2cb-861f5d6f31b0",
   "metadata": {},
   "outputs": [
    {
     "data": {
      "text/plain": [
       "(array([3.86503131]), array([[3.08059372]]))"
      ]
     },
     "execution_count": 7,
     "metadata": {},
     "output_type": "execute_result"
    }
   ],
   "source": [
    "from sklearn.linear_model import LinearRegression\n",
    "lin_reg = LinearRegression()\n",
    "lin_reg.fit(X, y)\n",
    "lin_reg.intercept_, lin_reg.coef_"
   ]
  },
  {
   "cell_type": "code",
   "execution_count": 8,
   "id": "dfd3766e-3605-4415-892b-24cfb16a2abe",
   "metadata": {},
   "outputs": [
    {
     "data": {
      "text/plain": [
       "array([[ 3.86503131],\n",
       "       [10.02621874]])"
      ]
     },
     "execution_count": 8,
     "metadata": {},
     "output_type": "execute_result"
    }
   ],
   "source": [
    "lin_reg.predict(X_new)"
   ]
  },
  {
   "cell_type": "code",
   "execution_count": 9,
   "id": "8798e5c8-7ca5-447d-a873-4a962d840f76",
   "metadata": {},
   "outputs": [
    {
     "data": {
      "text/plain": [
       "array([[3.86503131],\n",
       "       [3.08059372]])"
      ]
     },
     "execution_count": 9,
     "metadata": {},
     "output_type": "execute_result"
    }
   ],
   "source": [
    "theta_best_svd, residuals, rank, s = np.linalg.lstsq(X_b, y, rcond=1e-6)\n",
    "theta_best"
   ]
  },
  {
   "cell_type": "code",
   "execution_count": 10,
   "id": "663a88e4-50e0-41ad-8247-1a34fa43f8ad",
   "metadata": {},
   "outputs": [
    {
     "data": {
      "text/plain": [
       "array([[3.86503131],\n",
       "       [3.08059372]])"
      ]
     },
     "execution_count": 10,
     "metadata": {},
     "output_type": "execute_result"
    }
   ],
   "source": [
    "np.linalg.pinv(X_b).dot(y)"
   ]
  },
  {
   "cell_type": "code",
   "execution_count": 11,
   "id": "d75238d9-aaec-423a-8be2-01b0e9a1136d",
   "metadata": {},
   "outputs": [
    {
     "data": {
      "text/plain": [
       "array([[3.86503131],\n",
       "       [3.08059372]])"
      ]
     },
     "execution_count": 11,
     "metadata": {},
     "output_type": "execute_result"
    }
   ],
   "source": [
    "# Batch Gradient Descend\n",
    "eta = 0.1 # learning rate\n",
    "n_iterations = 1000\n",
    "m = 100\n",
    "\n",
    "theta = np.random.randn(2,1) # random initialisation\n",
    "for iteration in range(n_iterations):\n",
    "    gradients = 2/m * X_b.T.dot(X_b.dot(theta) - y)\n",
    "    theta = theta - eta * gradients\n",
    "    \n",
    "theta"
   ]
  },
  {
   "cell_type": "code",
   "execution_count": 12,
   "id": "2aed51e2-5c7f-4c73-9d49-f524c0671809",
   "metadata": {},
   "outputs": [
    {
     "data": {
      "image/png": "[encoded data removed]",
      "text/plain": [
       "<Figure size 640x480 with 1 Axes>"
      ]
     },
     "metadata": {},
     "output_type": "display_data"
    },
    {
     "data": {
      "text/plain": [
       "array([[3.8681371 ],\n",
       "       [3.08382506]])"
      ]
     },
     "execution_count": 12,
     "metadata": {},
     "output_type": "execute_result"
    }
   ],
   "source": [
    "# Stochastic Gradient Descend\n",
    "\n",
    "n_epochs = 50\n",
    "t0, t1 = 5, 50  # learning schedule hyperparameters\n",
    "\n",
    "def learning_schedule(t):\n",
    "    return t0 / (t + t1)\n",
    "\n",
    "theta = np.random.randn(2, 1)  # random initialisation\n",
    "\n",
    "for epoch in range(n_epochs):\n",
    "    y_predict_sgd = X_new_b.dot(theta)\n",
    "    plt.plot(X_new, y_predict_sgd, \"r-\", alpha=0.5)\n",
    "    for i in range(m):\n",
    "        random_index = np.random.randint(m)\n",
    "        xi = X_b[random_index:random_index+1]\n",
    "        yi = y[random_index:random_index+1]\n",
    "        gradients = 2 * xi.T.dot(xi.dot(theta) - yi)\n",
    "        eta = learning_schedule(epoch * m + i)\n",
    "        theta = theta - eta * gradients\n",
    "        \n",
    "y_predict_sgd = X_new_b.dot(theta)\n",
    "plt.plot(X, y, \"b.\", alpha=0.7)\n",
    "plt.plot(X_new, y_predict_sgd, \"b-\")\n",
    "plt.axis([0, 2, 0, 15])\n",
    "plt.show()\n",
    "\n",
    "theta"
   ]
  },
  {
   "cell_type": "code",
   "execution_count": 13,
   "id": "2c85bf7e-cc29-4a16-a3a4-59563c494981",
   "metadata": {},
   "outputs": [
    {
     "data": {
      "text/plain": [
       "(array([3.84642998]), array([3.07482824]))"
      ]
     },
     "execution_count": 13,
     "metadata": {},
     "output_type": "execute_result"
    }
   ],
   "source": [
    "from sklearn.linear_model import SGDRegressor\n",
    "\n",
    "sgd_reg = SGDRegressor(max_iter=1000, tol=1e-3, penalty=None, eta0=0.1)\n",
    "sgd_reg.fit(X, y.ravel())\n",
    "sgd_reg.intercept_, sgd_reg.coef_"
   ]
  },
  {
   "cell_type": "code",
   "execution_count": 14,
   "id": "d958a718-f54a-468e-8cd7-903d849db6d1",
   "metadata": {},
   "outputs": [],
   "source": [
    "# Polynomial Regression\n",
    "\n",
    "m = 100\n",
    "X = 6 * np.random.rand(m, 1) - 3\n",
    "y = 0.5 * X**2 + X + 2 + np.random.randn(m, 1)"
   ]
  },
  {
   "cell_type": "code",
   "execution_count": 15,
   "id": "cb0ae60b-16e4-4b0c-b4a8-65f531bb0322",
   "metadata": {},
   "outputs": [
    {
     "data": {
      "image/png": "[encoded data removed]",
      "text/plain": [
       "<Figure size 640x480 with 1 Axes>"
      ]
     },
     "metadata": {},
     "output_type": "display_data"
    }
   ],
   "source": [
    "plt.plot(X, y, \"b.\")\n",
    "plt.show()"
   ]
  },
  {
   "cell_type": "code",
   "execution_count": 16,
   "id": "9ec35e50-1b01-49fd-9158-3fe6832c8661",
   "metadata": {},
   "outputs": [
    {
     "data": {
      "text/plain": [
       "(array([-2.87733207]), array([-2.87733207,  8.27903986]))"
      ]
     },
     "execution_count": 16,
     "metadata": {},
     "output_type": "execute_result"
    }
   ],
   "source": [
    "from sklearn.preprocessing import PolynomialFeatures\n",
    "\n",
    "poly_features = PolynomialFeatures(degree=2, include_bias=False)\n",
    "X_poly = poly_features.fit_transform(X)\n",
    "X[0], X_poly[0]"
   ]
  },
  {
   "cell_type": "code",
   "execution_count": 17,
   "id": "7665d298-8426-439d-95d1-aea47947637d",
   "metadata": {},
   "outputs": [
    {
     "data": {
      "text/plain": [
       "(array([1.99564745]), array([[0.94238292, 0.48644983]]))"
      ]
     },
     "execution_count": 17,
     "metadata": {},
     "output_type": "execute_result"
    }
   ],
   "source": [
    "lin_reg = LinearRegression()\n",
    "lin_reg.fit(X_poly, y)\n",
    "lin_reg.intercept_, lin_reg.coef_"
   ]
  },
  {
   "cell_type": "code",
   "execution_count": 18,
   "id": "c5e1fd58-26a6-49df-a45e-9d67e0a144c2",
   "metadata": {
    "tags": []
   },
   "outputs": [
    {
     "data": {
      "image/png": "[encoded data removed]",
      "text/plain": [
       "<Figure size 640x480 with 1 Axes>"
      ]
     },
     "metadata": {},
     "output_type": "display_data"
    }
   ],
   "source": [
    "X_plot = np.linspace(-3, 3, 100).reshape(-1,1)\n",
    "X_plot_poly = poly_features.fit_transform(X_plot)\n",
    "y_plot = lin_reg.predict(X_plot_poly)\n",
    "\n",
    "plt.plot(X_plot_poly[:,0], y_plot, \"r-\")\n",
    "plt.plot(X, y, \"b.\", alpha=0.5)\n",
    "plt.show()"
   ]
  },
  {
   "cell_type": "code",
   "execution_count": 19,
   "id": "8603751b-d414-47f2-9823-4ea45c572be6",
   "metadata": {},
   "outputs": [],
   "source": [
    "from sklearn.metrics import mean_squared_error\n",
    "from sklearn.model_selection import train_test_split\n",
    "\n",
    "def plot_learning_curves(model, X, y):\n",
    "    X_train, X_val, y_train, y_val = train_test_split(X, y, test_size=0.2)\n",
    "    train_errors, val_errors = [], []\n",
    "    for m in range(1, len(X_train)):\n",
    "        model.fit(X_train[:m], y_train[:m])\n",
    "        y_train_predict = model.predict(X_train[:m])\n",
    "        y_val_predict = model.predict(X_val)\n",
    "        train_errors.append(mean_squared_error(y_train[:m], y_train_predict))\n",
    "        val_errors.append(mean_squared_error(y_val, y_val_predict))\n",
    "    plt.plot(np.sqrt(train_errors), \"r-+\", linewidth=2, label=\"train\")\n",
    "    plt.plot(np.sqrt(val_errors), \"b-\", linewidth=3, label=\"val\")\n"
   ]
  },
  {
   "cell_type": "code",
   "execution_count": 20,
   "id": "96b30439-6543-4cbc-85d8-a6bdd6bf3227",
   "metadata": {},
   "outputs": [
    {
     "data": {
      "image/png": "[encoded data removed]",
      "text/plain": [
       "<Figure size 640x480 with 1 Axes>"
      ]
     },
     "metadata": {},
     "output_type": "display_data"
    }
   ],
   "source": [
    "lin_reg = LinearRegression()\n",
    "plot_learning_curves(lin_reg, X, y)"
   ]
  },
  {
   "cell_type": "code",
   "execution_count": 21,
   "id": "a8d44377-a451-4ce3-b40d-fc9f77fdd0b1",
   "metadata": {},
   "outputs": [
    {
     "data": {
      "text/plain": [
       "array([[4.92251589]])"
      ]
     },
     "execution_count": 21,
     "metadata": {},
     "output_type": "execute_result"
    }
   ],
   "source": [
    "# Ridge regression\n",
    "\n",
    "from sklearn.linear_model import Ridge\n",
    "ridge_reg = Ridge(alpha=1, solver=\"cholesky\")\n",
    "ridge_reg.fit(X, y)\n",
    "ridge_reg.predict([[1.5]])"
   ]
  },
  {
   "cell_type": "code",
   "execution_count": 22,
   "id": "d47cb0d4-2789-4363-b690-be7a54f9094d",
   "metadata": {},
   "outputs": [
    {
     "data": {
      "text/plain": [
       "array([4.9044128])"
      ]
     },
     "execution_count": 22,
     "metadata": {},
     "output_type": "execute_result"
    }
   ],
   "source": [
    "sgd_reg = SGDRegressor(penalty=\"l2\")\n",
    "sgd_reg.fit(X, y.ravel())\n",
    "sgd_reg.predict([[1.5]])"
   ]
  },
  {
   "cell_type": "code",
   "execution_count": 23,
   "id": "f9e57c3d-1992-46f1-bc73-57347f36e939",
   "metadata": {},
   "outputs": [
    {
     "data": {
      "text/plain": [
       "array([4.87802335])"
      ]
     },
     "execution_count": 23,
     "metadata": {},
     "output_type": "execute_result"
    }
   ],
   "source": [
    "# Lasso regression\n",
    "\n",
    "from sklearn.linear_model import Lasso\n",
    "lasso_reg = Lasso(alpha=0.1)\n",
    "lasso_reg.fit(X, y)\n",
    "lasso_reg.predict([[1.5]])"
   ]
  },
  {
   "cell_type": "code",
   "execution_count": 24,
   "id": "8dcd6e5e-d337-496b-8943-05cc5a083eed",
   "metadata": {},
   "outputs": [
    {
     "data": {
      "text/plain": [
       "array([4.91116339])"
      ]
     },
     "execution_count": 24,
     "metadata": {},
     "output_type": "execute_result"
    }
   ],
   "source": [
    "sgd_reg = SGDRegressor(penalty=\"l1\")\n",
    "sgd_reg.fit(X, y.ravel())\n",
    "sgd_reg.predict([[1.5]])"
   ]
  },
  {
   "cell_type": "code",
   "execution_count": 25,
   "id": "fb6d0b89-615c-417d-a329-0650c6b5b71a",
   "metadata": {},
   "outputs": [
    {
     "data": {
      "text/plain": [
       "array([4.88083829])"
      ]
     },
     "execution_count": 25,
     "metadata": {},
     "output_type": "execute_result"
    }
   ],
   "source": [
    "# Elastic Net\n",
    "\n",
    "from sklearn.linear_model import ElasticNet\n",
    "\n",
    "elastic_net = ElasticNet(alpha=0.1, l1_ratio=0.5)\n",
    "elastic_net.fit(X, y)\n",
    "elastic_net.predict([[1.5]])"
   ]
  },
  {
   "cell_type": "code",
   "execution_count": 26,
   "id": "24343125-aac9-4c8e-afcd-29df46476332",
   "metadata": {},
   "outputs": [
    {
     "data": {
      "text/plain": [
       "44"
      ]
     },
     "execution_count": 26,
     "metadata": {},
     "output_type": "execute_result"
    }
   ],
   "source": [
    "# Early stopping\n",
    "\n",
    "from sklearn.pipeline import Pipeline\n",
    "from sklearn.base import clone\n",
    "from sklearn.preprocessing import StandardScaler\n",
    "from sklearn.model_selection import train_test_split\n",
    "\n",
    "# prepare the data\n",
    "poly_scaler = Pipeline([\n",
    "    (\"poly_features\", PolynomialFeatures(degree=90, include_bias=False)),\n",
    "    (\"std_scaler\", StandardScaler())\n",
    "])\n",
    "\n",
    "X_train, X_val, y_train, y_val = train_test_split(X, y.ravel(), test_size=0.2)\n",
    "\n",
    "X_train_poly_scaled = poly_scaler.fit_transform(X_train)\n",
    "X_val_poly_scaled = poly_scaler.transform(X_val)\n",
    "\n",
    "sgd_reg = SGDRegressor(max_iter=1, tol=None, warm_start=True,\n",
    "                       penalty=None, learning_rate=\"constant\", eta0=0.0005)\n",
    "\n",
    "minimum_val_error = float(\"inf\")\n",
    "best_epoch = None\n",
    "best_model = None\n",
    "for epoch in range(1000):\n",
    "    sgd_reg.fit(X_train_poly_scaled, y_train)  # continues where it left off\n",
    "    y_val_predict = sgd_reg.predict(X_val_poly_scaled)\n",
    "    val_error = mean_squared_error(y_val, y_val_predict)\n",
    "    if val_error < minimum_val_error:\n",
    "        minimum_val_error = val_error\n",
    "        best_epoch = epoch\n",
    "        best_model = clone(sgd_reg)\n",
    "        \n",
    "best_epoch"
   ]
  },
  {
   "cell_type": "code",
   "execution_count": 27,
   "id": "26ca5b5a-b7cf-4476-ad14-b4e549f9e905",
   "metadata": {},
   "outputs": [
    {
     "data": {
      "text/plain": [
       "['data',\n",
       " 'target',\n",
       " 'frame',\n",
       " 'target_names',\n",
       " 'DESCR',\n",
       " 'feature_names',\n",
       " 'filename',\n",
       " 'data_module']"
      ]
     },
     "execution_count": 27,
     "metadata": {},
     "output_type": "execute_result"
    }
   ],
   "source": [
    "# Logistic regression\n",
    "\n",
    "from sklearn import datasets\n",
    "iris = datasets.load_iris()\n",
    "list(iris.keys())"
   ]
  },
  {
   "cell_type": "code",
   "execution_count": 28,
   "id": "588a5273-3c36-4f39-9847-ac4b9d0133e6",
   "metadata": {},
   "outputs": [],
   "source": [
    "X = iris[\"data\"][:, 3:]  # petal width\n",
    "y = (iris[\"target\"] == 2).astype(int)  # 1 if Iris virginica, else 0"
   ]
  },
  {
   "cell_type": "code",
   "execution_count": 29,
   "id": "17e04c1a-20cb-4d2b-b4c5-30240b3ec957",
   "metadata": {},
   "outputs": [
    {
     "data": {
      "text/html": [
       "<style>#sk-container-id-1 {color: black;background-color: white;}#sk-container-id-1 pre{padding: 0;}#sk-container-id-1 div.sk-toggleable {background-color: white;}#sk-container-id-1 label.sk-toggleable__label {cursor: pointer;display: block;width: 100%;margin-bottom: 0;padding: 0.3em;box-sizing: border-box;text-align: center;}#sk-container-id-1 label.sk-toggleable__label-arrow:before {content: \"▸\";float: left;margin-right: 0.25em;color: #696969;}#sk-container-id-1 label.sk-toggleable__label-arrow:hover:before {color: black;}#sk-container-id-1 div.sk-estimator:hover label.sk-toggleable__label-arrow:before {color: black;}#sk-container-id-1 div.sk-toggleable__content {max-height: 0;max-width: 0;overflow: hidden;text-align: left;background-color: #f0f8ff;}#sk-container-id-1 div.sk-toggleable__content pre {margin: 0.2em;color: black;border-radius: 0.25em;background-color: #f0f8ff;}#sk-container-id-1 input.sk-toggleable__control:checked~div.sk-toggleable__content {max-height: 200px;max-width: 100%;overflow: auto;}#sk-container-id-1 input.sk-toggleable__control:checked~label.sk-toggleable__label-arrow:before {content: \"▾\";}#sk-container-id-1 div.sk-estimator input.sk-toggleable__control:checked~label.sk-toggleable__label {background-color: #d4ebff;}#sk-container-id-1 div.sk-label input.sk-toggleable__control:checked~label.sk-toggleable__label {background-color: #d4ebff;}#sk-container-id-1 input.sk-hidden--visually {border: 0;clip: rect(1px 1px 1px 1px);clip: rect(1px, 1px, 1px, 1px);height: 1px;margin: -1px;overflow: hidden;padding: 0;position: absolute;width: 1px;}#sk-container-id-1 div.sk-estimator {font-family: monospace;background-color: #f0f8ff;border: 1px dotted black;border-radius: 0.25em;box-sizing: border-box;margin-bottom: 0.5em;}#sk-container-id-1 div.sk-estimator:hover {background-color: #d4ebff;}#sk-container-id-1 div.sk-parallel-item::after {content: \"\";width: 100%;border-bottom: 1px solid gray;flex-grow: 1;}#sk-container-id-1 div.sk-label:hover label.sk-toggleable__label {background-color: #d4ebff;}#sk-container-id-1 div.sk-serial::before {content: \"\";position: absolute;border-left: 1px solid gray;box-sizing: border-box;top: 0;bottom: 0;left: 50%;z-index: 0;}#sk-container-id-1 div.sk-serial {display: flex;flex-direction: column;align-items: center;background-color: white;padding-right: 0.2em;padding-left: 0.2em;position: relative;}#sk-container-id-1 div.sk-item {position: relative;z-index: 1;}#sk-container-id-1 div.sk-parallel {display: flex;align-items: stretch;justify-content: center;background-color: white;position: relative;}#sk-container-id-1 div.sk-item::before, #sk-container-id-1 div.sk-parallel-item::before {content: \"\";position: absolute;border-left: 1px solid gray;box-sizing: border-box;top: 0;bottom: 0;left: 50%;z-index: -1;}#sk-container-id-1 div.sk-parallel-item {display: flex;flex-direction: column;z-index: 1;position: relative;background-color: white;}#sk-container-id-1 div.sk-parallel-item:first-child::after {align-self: flex-end;width: 50%;}#sk-container-id-1 div.sk-parallel-item:last-child::after {align-self: flex-start;width: 50%;}#sk-container-id-1 div.sk-parallel-item:only-child::after {width: 0;}#sk-container-id-1 div.sk-dashed-wrapped {border: 1px dashed gray;margin: 0 0.4em 0.5em 0.4em;box-sizing: border-box;padding-bottom: 0.4em;background-color: white;}#sk-container-id-1 div.sk-label label {font-family: monospace;font-weight: bold;display: inline-block;line-height: 1.2em;}#sk-container-id-1 div.sk-label-container {text-align: center;}#sk-container-id-1 div.sk-container {/* jupyter's `normalize.less` sets `[hidden] { display: none; }` but bootstrap.min.css set `[hidden] { display: none !important; }` so we also need the `!important` here to be able to override the default hidden behavior on the sphinx rendered scikit-learn.org. See: https://github.com/scikit-learn/scikit-learn/issues/21755 */display: inline-block !important;position: relative;}#sk-container-id-1 div.sk-text-repr-fallback {display: none;}</style><div id=\"sk-container-id-1\" class=\"sk-top-container\"><div class=\"sk-text-repr-fallback\"><pre>LogisticRegression()</pre><b>In a Jupyter environment, please rerun this cell to show the HTML representation or trust the notebook. <br />On GitHub, the HTML representation is unable to render, please try loading this page with nbviewer.org.</b></div><div class=\"sk-container\" hidden><div class=\"sk-item\"><div class=\"sk-estimator sk-toggleable\"><input class=\"sk-toggleable__control sk-hidden--visually\" id=\"sk-estimator-id-1\" type=\"checkbox\" checked><label for=\"sk-estimator-id-1\" class=\"sk-toggleable__label sk-toggleable__label-arrow\">LogisticRegression</label><div class=\"sk-toggleable__content\"><pre>LogisticRegression()</pre></div></div></div></div></div>"
      ],
      "text/plain": [
       "LogisticRegression()"
      ]
     },
     "execution_count": 29,
     "metadata": {},
     "output_type": "execute_result"
    }
   ],
   "source": [
    "from sklearn.linear_model import LogisticRegression\n",
    "\n",
    "log_reg = LogisticRegression()\n",
    "log_reg.fit(X, y)"
   ]
  },
  {
   "cell_type": "code",
   "execution_count": 30,
   "id": "50edb81e-4bdf-4795-9ec9-b21e1ba40de5",
   "metadata": {},
   "outputs": [
    {
     "data": {
      "text/plain": [
       "[<matplotlib.lines.Line2D at 0x7f5af40b70a0>]"
      ]
     },
     "execution_count": 30,
     "metadata": {},
     "output_type": "execute_result"
    },
    {
     "data": {
      "image/png": "[encoded data removed]",
      "text/plain": [
       "<Figure size 640x480 with 1 Axes>"
      ]
     },
     "metadata": {},
     "output_type": "display_data"
    }
   ],
   "source": [
    "X_new = np.linspace(0, 3, 1000).reshape(-1, 1)\n",
    "y_proba = log_reg.predict_proba(X_new)\n",
    "plt.plot(X_new, y_proba[:, 1], \"g-\", label=\"Iris virginica\")\n",
    "plt.plot(X_new, y_proba[:, 0], \"b--\", label=\"Not Iris virginica\")"
   ]
  },
  {
   "cell_type": "code",
   "execution_count": null,
   "id": "edda0c60-2c86-4105-a95b-0cfb001eb52b",
   "metadata": {},
   "outputs": [],
   "source": []
  }
 ],
 "metadata": {
  "kernelspec": {
   "display_name": "Python 3 (ipykernel)",
   "language": "python",
   "name": "python3"
  },
  "language_info": {
   "codemirror_mode": {
    "name": "ipython",
    "version": 3
   },
   "file_extension": ".py",
   "mimetype": "text/x-python",
   "name": "python",
   "nbconvert_exporter": "python",
   "pygments_lexer": "ipython3",
   "version": "3.9.16"
  }
 },
 "nbformat": 4,
 "nbformat_minor": 5
}
