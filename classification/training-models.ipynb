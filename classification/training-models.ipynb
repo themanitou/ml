{
 "cells": [
  {
   "cell_type": "code",
   "execution_count": 1,
   "id": "915addef-d222-4c59-a844-a2650b05a729",
   "metadata": {},
   "outputs": [],
   "source": [
    "import numpy as np\n",
    "\n",
    "X = 2 * np.random.rand(100, 1)\n",
    "y = 4 + 3 * X + np.random.randn(100, 1)"
   ]
  },
  {
   "cell_type": "code",
   "execution_count": 2,
   "id": "6546ed76-4e21-445c-9003-f69a42d3159e",
   "metadata": {},
   "outputs": [
    {
     "data": {
      "text/plain": [
       "(array([[0.53881121],\n",
       "        [0.02211523],\n",
       "        [0.64127088],\n",
       "        [0.30497516],\n",
       "        [0.54815706],\n",
       "        [1.04619551],\n",
       "        [0.45555178],\n",
       "        [0.72041944],\n",
       "        [1.83039129],\n",
       "        [1.13582027],\n",
       "        [0.28710789],\n",
       "        [0.01817251],\n",
       "        [0.05198409],\n",
       "        [1.61253224],\n",
       "        [1.33169739],\n",
       "        [0.5661363 ],\n",
       "        [1.6865051 ],\n",
       "        [1.6545924 ],\n",
       "        [1.00931369],\n",
       "        [1.02903598],\n",
       "        [0.86105064],\n",
       "        [0.04219748],\n",
       "        [0.57231081],\n",
       "        [0.27991977],\n",
       "        [0.20313985],\n",
       "        [0.65897835],\n",
       "        [1.04583775],\n",
       "        [0.59295449],\n",
       "        [1.73555387],\n",
       "        [0.66710929],\n",
       "        [1.72522264],\n",
       "        [1.03276977],\n",
       "        [0.43291331],\n",
       "        [1.19270996],\n",
       "        [0.51767963],\n",
       "        [0.39854204],\n",
       "        [0.75248064],\n",
       "        [1.90063652],\n",
       "        [0.23021188],\n",
       "        [1.52231659],\n",
       "        [0.69709986],\n",
       "        [1.85679879],\n",
       "        [0.61471785],\n",
       "        [0.48790643],\n",
       "        [1.71690716],\n",
       "        [1.32466033],\n",
       "        [0.14601979],\n",
       "        [1.67327271],\n",
       "        [0.37050221],\n",
       "        [1.56820644],\n",
       "        [0.92663074],\n",
       "        [1.58366172],\n",
       "        [1.71325495],\n",
       "        [1.39165106],\n",
       "        [1.00688232],\n",
       "        [1.5914507 ],\n",
       "        [1.72094366],\n",
       "        [0.5090817 ],\n",
       "        [1.74624103],\n",
       "        [0.89049873],\n",
       "        [1.89317203],\n",
       "        [0.11506539],\n",
       "        [1.04001593],\n",
       "        [0.17311206],\n",
       "        [0.15015792],\n",
       "        [0.22814105],\n",
       "        [1.36553766],\n",
       "        [0.30973289],\n",
       "        [1.82710133],\n",
       "        [0.00782532],\n",
       "        [0.92019493],\n",
       "        [0.55383022],\n",
       "        [1.89474306],\n",
       "        [1.36580317],\n",
       "        [0.21264856],\n",
       "        [0.06835306],\n",
       "        [0.90541166],\n",
       "        [0.13984571],\n",
       "        [1.86839195],\n",
       "        [0.86288303],\n",
       "        [1.67398821],\n",
       "        [0.165111  ],\n",
       "        [1.21527696],\n",
       "        [0.70752077],\n",
       "        [1.80305264],\n",
       "        [1.78529856],\n",
       "        [1.9905392 ],\n",
       "        [1.40668291],\n",
       "        [1.39144306],\n",
       "        [0.30710504],\n",
       "        [0.19169584],\n",
       "        [0.60982756],\n",
       "        [1.40933227],\n",
       "        [0.5460943 ],\n",
       "        [1.48904513],\n",
       "        [1.43684873],\n",
       "        [0.01420871],\n",
       "        [0.85222581],\n",
       "        [1.89651718],\n",
       "        [0.78223882]]),\n",
       " array([[ 5.66559938],\n",
       "        [ 3.22363217],\n",
       "        [ 6.22700116],\n",
       "        [ 5.20461376],\n",
       "        [ 6.47601186],\n",
       "        [ 7.22235603],\n",
       "        [ 4.83360775],\n",
       "        [ 5.71757797],\n",
       "        [ 8.86898949],\n",
       "        [ 7.83243881],\n",
       "        [ 5.18455903],\n",
       "        [ 3.98259284],\n",
       "        [ 4.30099601],\n",
       "        [ 9.25432132],\n",
       "        [ 7.29678661],\n",
       "        [ 5.67762058],\n",
       "        [ 9.26942295],\n",
       "        [ 8.34746273],\n",
       "        [ 7.76922302],\n",
       "        [ 6.1035782 ],\n",
       "        [ 6.92614455],\n",
       "        [ 4.17045864],\n",
       "        [ 5.84382929],\n",
       "        [ 6.1795791 ],\n",
       "        [ 3.3854121 ],\n",
       "        [ 4.73473797],\n",
       "        [ 5.72890155],\n",
       "        [ 7.00183031],\n",
       "        [ 9.64331897],\n",
       "        [ 5.91233035],\n",
       "        [ 9.5568881 ],\n",
       "        [ 7.47926853],\n",
       "        [ 6.63571912],\n",
       "        [ 7.86559778],\n",
       "        [ 5.13740865],\n",
       "        [ 5.76719139],\n",
       "        [ 6.13463138],\n",
       "        [ 8.06713502],\n",
       "        [ 4.69601165],\n",
       "        [ 8.96906824],\n",
       "        [ 6.05690631],\n",
       "        [ 8.3422668 ],\n",
       "        [ 5.54576426],\n",
       "        [ 5.92510604],\n",
       "        [ 8.37352437],\n",
       "        [ 8.10519391],\n",
       "        [ 4.55484579],\n",
       "        [ 9.09450634],\n",
       "        [ 4.93428083],\n",
       "        [ 9.37838489],\n",
       "        [ 5.88075502],\n",
       "        [ 8.937865  ],\n",
       "        [ 8.00490506],\n",
       "        [ 7.77965314],\n",
       "        [ 5.96385745],\n",
       "        [ 8.48251169],\n",
       "        [ 9.62399217],\n",
       "        [ 5.38228026],\n",
       "        [ 7.93185347],\n",
       "        [ 5.5568515 ],\n",
       "        [ 9.64175071],\n",
       "        [ 4.04048077],\n",
       "        [ 6.10714428],\n",
       "        [ 4.79142685],\n",
       "        [ 4.02517688],\n",
       "        [ 5.23524506],\n",
       "        [ 7.32565464],\n",
       "        [ 4.12654241],\n",
       "        [ 7.76325905],\n",
       "        [ 4.8646015 ],\n",
       "        [ 6.91425939],\n",
       "        [ 5.2696126 ],\n",
       "        [10.0685273 ],\n",
       "        [ 7.28967843],\n",
       "        [ 4.64119005],\n",
       "        [ 6.15252814],\n",
       "        [ 7.64434055],\n",
       "        [ 4.56697343],\n",
       "        [12.43109023],\n",
       "        [ 7.76833287],\n",
       "        [ 9.36740103],\n",
       "        [ 4.46230271],\n",
       "        [ 7.82856354],\n",
       "        [ 6.35473689],\n",
       "        [ 8.0655643 ],\n",
       "        [ 9.38015143],\n",
       "        [10.77298209],\n",
       "        [ 8.53482135],\n",
       "        [ 7.19224559],\n",
       "        [ 3.34408253],\n",
       "        [ 4.15219741],\n",
       "        [ 5.15191947],\n",
       "        [ 8.28673759],\n",
       "        [ 4.86726428],\n",
       "        [ 9.5809021 ],\n",
       "        [ 8.01729009],\n",
       "        [ 4.56478934],\n",
       "        [ 5.72735915],\n",
       "        [ 9.25029997],\n",
       "        [ 5.57061689]]))"
      ]
     },
     "execution_count": 2,
     "metadata": {},
     "output_type": "execute_result"
    }
   ],
   "source": [
    "X, y"
   ]
  },
  {
   "cell_type": "code",
   "execution_count": 3,
   "id": "e54dd0b6-81bb-4113-a346-ccb7b5379e78",
   "metadata": {},
   "outputs": [
    {
     "data": {
      "image/png": "[encoded data removed]",
      "text/plain": [
       "<Figure size 432x288 with 1 Axes>"
      ]
     },
     "metadata": {
      "needs_background": "light"
     },
     "output_type": "display_data"
    }
   ],
   "source": [
    "import matplotlib as mpl\n",
    "import matplotlib.pyplot as plt\n",
    "\n",
    "plt.scatter(X, y, alpha=0.5)\n",
    "plt.ylim(0,)\n",
    "plt.xlabel('X')\n",
    "plt.ylabel('y')\n",
    "plt.show()"
   ]
  },
  {
   "cell_type": "code",
   "execution_count": 4,
   "id": "f3ddffaa-dd30-4d0f-9a6e-094efa7dbc60",
   "metadata": {},
   "outputs": [
    {
     "data": {
      "text/plain": [
       "array([[4.04933082],\n",
       "       [2.85583279]])"
      ]
     },
     "execution_count": 4,
     "metadata": {},
     "output_type": "execute_result"
    }
   ],
   "source": [
    "X_b = np.c_[np.ones((100,1)), X] # add x0 = 1 to each instance\n",
    "theta_best = np.linalg.inv(X_b.T.dot(X_b)).dot(X_b.T).dot(y)\n",
    "theta_best"
   ]
  },
  {
   "cell_type": "code",
   "execution_count": 5,
   "id": "2c79308e-0bdb-41c7-8c9a-afc6db9791be",
   "metadata": {},
   "outputs": [
    {
     "data": {
      "text/plain": [
       "array([[4.04933082],\n",
       "       [9.76099639]])"
      ]
     },
     "execution_count": 5,
     "metadata": {},
     "output_type": "execute_result"
    }
   ],
   "source": [
    "X_new = np.array([[0], [2]])\n",
    "X_new_b = np.c_[np.ones((2, 1)), X_new] # add x0 = 1 to each instance\n",
    "y_predict = X_new_b.dot(theta_best)\n",
    "y_predict"
   ]
  },
  {
   "cell_type": "code",
   "execution_count": 6,
   "id": "0a9e8072-681b-4d9c-8eb0-df0fa55910a3",
   "metadata": {},
   "outputs": [
    {
     "data": {
      "image/png": "[encoded data removed]",
      "text/plain": [
       "<Figure size 432x288 with 1 Axes>"
      ]
     },
     "metadata": {
      "needs_background": "light"
     },
     "output_type": "display_data"
    }
   ],
   "source": [
    "plt.plot(X_new, y_predict, \"r-\")\n",
    "plt.plot(X, y, \"b.\")\n",
    "plt.axis([0, 2, 0, 15])\n",
    "plt.show()"
   ]
  },
  {
   "cell_type": "code",
   "execution_count": 7,
   "id": "2d543843-ff16-48a5-a2cb-861f5d6f31b0",
   "metadata": {},
   "outputs": [
    {
     "data": {
      "text/plain": [
       "(array([4.04933082]), array([[2.85583279]]))"
      ]
     },
     "execution_count": 7,
     "metadata": {},
     "output_type": "execute_result"
    }
   ],
   "source": [
    "from sklearn.linear_model import LinearRegression\n",
    "lin_reg = LinearRegression()\n",
    "lin_reg.fit(X, y)\n",
    "lin_reg.intercept_, lin_reg.coef_"
   ]
  },
  {
   "cell_type": "code",
   "execution_count": 8,
   "id": "dfd3766e-3605-4415-892b-24cfb16a2abe",
   "metadata": {},
   "outputs": [
    {
     "data": {
      "text/plain": [
       "array([[4.04933082],\n",
       "       [9.76099639]])"
      ]
     },
     "execution_count": 8,
     "metadata": {},
     "output_type": "execute_result"
    }
   ],
   "source": [
    "lin_reg.predict(X_new)"
   ]
  },
  {
   "cell_type": "code",
   "execution_count": 9,
   "id": "8798e5c8-7ca5-447d-a873-4a962d840f76",
   "metadata": {},
   "outputs": [
    {
     "data": {
      "text/plain": [
       "array([[4.04933082],\n",
       "       [2.85583279]])"
      ]
     },
     "execution_count": 9,
     "metadata": {},
     "output_type": "execute_result"
    }
   ],
   "source": [
    "theta_best_svd, residuals, rank, s = np.linalg.lstsq(X_b, y, rcond=1e-6)\n",
    "theta_best"
   ]
  },
  {
   "cell_type": "code",
   "execution_count": 10,
   "id": "663a88e4-50e0-41ad-8247-1a34fa43f8ad",
   "metadata": {},
   "outputs": [
    {
     "data": {
      "text/plain": [
       "array([[4.04933082],\n",
       "       [2.85583279]])"
      ]
     },
     "execution_count": 10,
     "metadata": {},
     "output_type": "execute_result"
    }
   ],
   "source": [
    "np.linalg.pinv(X_b).dot(y)"
   ]
  },
  {
   "cell_type": "code",
   "execution_count": 11,
   "id": "d75238d9-aaec-423a-8be2-01b0e9a1136d",
   "metadata": {},
   "outputs": [
    {
     "data": {
      "text/plain": [
       "array([[4.04933082],\n",
       "       [2.85583279]])"
      ]
     },
     "execution_count": 11,
     "metadata": {},
     "output_type": "execute_result"
    }
   ],
   "source": [
    "# Batch Gradient Descend\n",
    "eta = 0.1 # learning rate\n",
    "n_iterations = 1000\n",
    "m = 100\n",
    "\n",
    "theta = np.random.randn(2,1) # random initialisation\n",
    "for iteration in range(n_iterations):\n",
    "    gradients = 2/m * X_b.T.dot(X_b.dot(theta) - y)\n",
    "    theta = theta - eta * gradients\n",
    "    \n",
    "theta"
   ]
  },
  {
   "cell_type": "code",
   "execution_count": 12,
   "id": "2aed51e2-5c7f-4c73-9d49-f524c0671809",
   "metadata": {},
   "outputs": [
    {
     "data": {
      "image/png": "[encoded data removed]",
      "text/plain": [
       "<Figure size 432x288 with 1 Axes>"
      ]
     },
     "metadata": {
      "needs_background": "light"
     },
     "output_type": "display_data"
    },
    {
     "data": {
      "text/plain": [
       "array([[4.05072318],\n",
       "       [2.87062725]])"
      ]
     },
     "execution_count": 12,
     "metadata": {},
     "output_type": "execute_result"
    }
   ],
   "source": [
    "# Stochastic Gradient Descend\n",
    "\n",
    "n_epochs = 50\n",
    "t0, t1 = 5, 50  # learning schedule hyperparameters\n",
    "\n",
    "def learning_schedule(t):\n",
    "    return t0 / (t + t1)\n",
    "\n",
    "theta = np.random.randn(2, 1)  # random initialisation\n",
    "\n",
    "for epoch in range(n_epochs):\n",
    "    y_predict_sgd = X_new_b.dot(theta)\n",
    "    plt.plot(X_new, y_predict_sgd, \"r-\", alpha=0.5)\n",
    "    for i in range(m):\n",
    "        random_index = np.random.randint(m)\n",
    "        xi = X_b[random_index:random_index+1]\n",
    "        yi = y[random_index:random_index+1]\n",
    "        gradients = 2 * xi.T.dot(xi.dot(theta) - yi)\n",
    "        eta = learning_schedule(epoch * m + i)\n",
    "        theta = theta - eta * gradients\n",
    "        \n",
    "y_predict_sgd = X_new_b.dot(theta)\n",
    "plt.plot(X, y, \"b.\", alpha=0.7)\n",
    "plt.plot(X_new, y_predict_sgd, \"b-\")\n",
    "plt.axis([0, 2, 0, 15])\n",
    "plt.show()\n",
    "\n",
    "theta"
   ]
  },
  {
   "cell_type": "code",
   "execution_count": 13,
   "id": "2c85bf7e-cc29-4a16-a3a4-59563c494981",
   "metadata": {},
   "outputs": [
    {
     "data": {
      "text/plain": [
       "(array([3.99222558]), array([2.79861419]))"
      ]
     },
     "execution_count": 13,
     "metadata": {},
     "output_type": "execute_result"
    }
   ],
   "source": [
    "from sklearn.linear_model import SGDRegressor\n",
    "\n",
    "sgd_reg = SGDRegressor(max_iter=1000, tol=1e-3, penalty=None, eta0=0.1)\n",
    "sgd_reg.fit(X, y.ravel())\n",
    "sgd_reg.intercept_, sgd_reg.coef_"
   ]
  },
  {
   "cell_type": "code",
   "execution_count": 14,
   "id": "d958a718-f54a-468e-8cd7-903d849db6d1",
   "metadata": {},
   "outputs": [],
   "source": [
    "# Polynomial Regression\n",
    "\n",
    "m = 100\n",
    "X = 6 * np.random.rand(m, 1) - 3\n",
    "y = 0.5 * X**2 + X + 2 + np.random.randn(m, 1)"
   ]
  },
  {
   "cell_type": "code",
   "execution_count": 15,
   "id": "cb0ae60b-16e4-4b0c-b4a8-65f531bb0322",
   "metadata": {},
   "outputs": [
    {
     "data": {
      "image/png": "[encoded data removed]",
      "text/plain": [
       "<Figure size 432x288 with 1 Axes>"
      ]
     },
     "metadata": {
      "needs_background": "light"
     },
     "output_type": "display_data"
    }
   ],
   "source": [
    "plt.plot(X, y, \"b.\")\n",
    "plt.show()"
   ]
  },
  {
   "cell_type": "code",
   "execution_count": 16,
   "id": "9ec35e50-1b01-49fd-9158-3fe6832c8661",
   "metadata": {},
   "outputs": [
    {
     "data": {
      "text/plain": [
       "(array([2.15151185]), array([2.15151185, 4.62900326]))"
      ]
     },
     "execution_count": 16,
     "metadata": {},
     "output_type": "execute_result"
    }
   ],
   "source": [
    "from sklearn.preprocessing import PolynomialFeatures\n",
    "\n",
    "poly_features = PolynomialFeatures(degree=2, include_bias=False)\n",
    "X_poly = poly_features.fit_transform(X)\n",
    "X[0], X_poly[0]"
   ]
  },
  {
   "cell_type": "code",
   "execution_count": 17,
   "id": "7665d298-8426-439d-95d1-aea47947637d",
   "metadata": {},
   "outputs": [
    {
     "data": {
      "text/plain": [
       "(array([1.90121865]), array([[1.01600812, 0.47759861]]))"
      ]
     },
     "execution_count": 17,
     "metadata": {},
     "output_type": "execute_result"
    }
   ],
   "source": [
    "lin_reg = LinearRegression()\n",
    "lin_reg.fit(X_poly, y)\n",
    "lin_reg.intercept_, lin_reg.coef_"
   ]
  },
  {
   "cell_type": "code",
   "execution_count": 18,
   "id": "c5e1fd58-26a6-49df-a45e-9d67e0a144c2",
   "metadata": {
    "tags": []
   },
   "outputs": [
    {
     "data": {
      "image/png": "[encoded data removed]",
      "text/plain": [
       "<Figure size 432x288 with 1 Axes>"
      ]
     },
     "metadata": {
      "needs_background": "light"
     },
     "output_type": "display_data"
    }
   ],
   "source": [
    "X_plot = np.linspace(-3, 3, 100).reshape(-1,1)\n",
    "X_plot_poly = poly_features.fit_transform(X_plot)\n",
    "y_plot = lin_reg.predict(X_plot_poly)\n",
    "\n",
    "plt.plot(X_plot_poly[:,0], y_plot, \"r-\")\n",
    "plt.plot(X, y, \"b.\", alpha=0.5)\n",
    "plt.show()"
   ]
  },
  {
   "cell_type": "code",
   "execution_count": 19,
   "id": "8603751b-d414-47f2-9823-4ea45c572be6",
   "metadata": {},
   "outputs": [],
   "source": [
    "from sklearn.metrics import mean_squared_error\n",
    "from sklearn.model_selection import train_test_split\n",
    "\n",
    "def plot_learning_curves(model, X, y):\n",
    "    X_train, X_val, y_train, y_val = train_test_split(X, y, test_size=0.2)\n",
    "    train_errors, val_errors = [], []\n",
    "    for m in range(1, len(X_train)):\n",
    "        model.fit(X_train[:m], y_train[:m])\n",
    "        y_train_predict = model.predict(X_train[:m])\n",
    "        y_val_predict = model.predict(X_val)\n",
    "        train_errors.append(mean_squared_error(y_train[:m], y_train_predict))\n",
    "        val_errors.append(mean_squared_error(y_val, y_val_predict))\n",
    "    plt.plot(np.sqrt(train_errors), \"r-+\", linewidth=2, label=\"train\")\n",
    "    plt.plot(np.sqrt(val_errors), \"b-\", linewidth=3, label=\"val\")\n"
   ]
  },
  {
   "cell_type": "code",
   "execution_count": 20,
   "id": "96b30439-6543-4cbc-85d8-a6bdd6bf3227",
   "metadata": {},
   "outputs": [
    {
     "data": {
      "image/png": "[encoded data removed]",
      "text/plain": [
       "<Figure size 432x288 with 1 Axes>"
      ]
     },
     "metadata": {
      "needs_background": "light"
     },
     "output_type": "display_data"
    }
   ],
   "source": [
    "lin_reg = LinearRegression()\n",
    "plot_learning_curves(lin_reg, X, y)"
   ]
  },
  {
   "cell_type": "code",
   "execution_count": 21,
   "id": "a8d44377-a451-4ce3-b40d-fc9f77fdd0b1",
   "metadata": {},
   "outputs": [
    {
     "data": {
      "text/plain": [
       "array([[4.56181148]])"
      ]
     },
     "execution_count": 21,
     "metadata": {},
     "output_type": "execute_result"
    }
   ],
   "source": [
    "# Ridge regression\n",
    "\n",
    "from sklearn.linear_model import Ridge\n",
    "ridge_reg = Ridge(alpha=1, solver=\"cholesky\")\n",
    "ridge_reg.fit(X, y)\n",
    "ridge_reg.predict([[1.5]])"
   ]
  },
  {
   "cell_type": "code",
   "execution_count": 22,
   "id": "d47cb0d4-2789-4363-b690-be7a54f9094d",
   "metadata": {},
   "outputs": [
    {
     "data": {
      "text/plain": [
       "array([4.51096436])"
      ]
     },
     "execution_count": 22,
     "metadata": {},
     "output_type": "execute_result"
    }
   ],
   "source": [
    "sgd_reg = SGDRegressor(penalty=\"l2\")\n",
    "sgd_reg.fit(X, y.ravel())\n",
    "sgd_reg.predict([[1.5]])"
   ]
  },
  {
   "cell_type": "code",
   "execution_count": 23,
   "id": "f9e57c3d-1992-46f1-bc73-57347f36e939",
   "metadata": {},
   "outputs": [
    {
     "data": {
      "text/plain": [
       "array([4.50712227])"
      ]
     },
     "execution_count": 23,
     "metadata": {},
     "output_type": "execute_result"
    }
   ],
   "source": [
    "# Lasso regression\n",
    "\n",
    "from sklearn.linear_model import Lasso\n",
    "lasso_reg = Lasso(alpha=0.1)\n",
    "lasso_reg.fit(X, y)\n",
    "lasso_reg.predict([[1.5]])"
   ]
  },
  {
   "cell_type": "code",
   "execution_count": 24,
   "id": "8dcd6e5e-d337-496b-8943-05cc5a083eed",
   "metadata": {},
   "outputs": [
    {
     "data": {
      "text/plain": [
       "array([4.53669857])"
      ]
     },
     "execution_count": 24,
     "metadata": {},
     "output_type": "execute_result"
    }
   ],
   "source": [
    "sgd_reg = SGDRegressor(penalty=\"l1\")\n",
    "sgd_reg.fit(X, y.ravel())\n",
    "sgd_reg.predict([[1.5]])"
   ]
  },
  {
   "cell_type": "code",
   "execution_count": 25,
   "id": "fb6d0b89-615c-417d-a329-0650c6b5b71a",
   "metadata": {},
   "outputs": [
    {
     "data": {
      "text/plain": [
       "array([4.51245329])"
      ]
     },
     "execution_count": 25,
     "metadata": {},
     "output_type": "execute_result"
    }
   ],
   "source": [
    "# Elastic Net\n",
    "\n",
    "from sklearn.linear_model import ElasticNet\n",
    "\n",
    "elastic_net = ElasticNet(alpha=0.1, l1_ratio=0.5)\n",
    "elastic_net.fit(X, y)\n",
    "elastic_net.predict([[1.5]])"
   ]
  },
  {
   "cell_type": "code",
   "execution_count": 26,
   "id": "24343125-aac9-4c8e-afcd-29df46476332",
   "metadata": {},
   "outputs": [
    {
     "data": {
      "text/plain": [
       "555"
      ]
     },
     "execution_count": 26,
     "metadata": {},
     "output_type": "execute_result"
    }
   ],
   "source": [
    "# Early stopping\n",
    "\n",
    "from sklearn.pipeline import Pipeline\n",
    "from sklearn.base import clone\n",
    "from sklearn.preprocessing import StandardScaler\n",
    "from sklearn.model_selection import train_test_split\n",
    "\n",
    "# prepare the data\n",
    "poly_scaler = Pipeline([\n",
    "    (\"poly_features\", PolynomialFeatures(degree=90, include_bias=False)),\n",
    "    (\"std_scaler\", StandardScaler())\n",
    "])\n",
    "\n",
    "X_train, X_val, y_train, y_val = train_test_split(X, y.ravel(), test_size=0.2)\n",
    "\n",
    "X_train_poly_scaled = poly_scaler.fit_transform(X_train)\n",
    "X_val_poly_scaled = poly_scaler.transform(X_val)\n",
    "\n",
    "sgd_reg = SGDRegressor(max_iter=1, tol=-np.infty, warm_start=True,\n",
    "                       penalty=None, learning_rate=\"constant\", eta0=0.0005)\n",
    "\n",
    "minimum_val_error = float(\"inf\")\n",
    "best_epoch = None\n",
    "best_model = None\n",
    "for epoch in range(1000):\n",
    "    sgd_reg.fit(X_train_poly_scaled, y_train)  # continues where it left off\n",
    "    y_val_predict = sgd_reg.predict(X_val_poly_scaled)\n",
    "    val_error = mean_squared_error(y_val, y_val_predict)\n",
    "    if val_error < minimum_val_error:\n",
    "        minimum_val_error = val_error\n",
    "        best_epoch = epoch\n",
    "        best_model = clone(sgd_reg)\n",
    "        \n",
    "best_epoch"
   ]
  },
  {
   "cell_type": "code",
   "execution_count": 27,
   "id": "26ca5b5a-b7cf-4476-ad14-b4e549f9e905",
   "metadata": {},
   "outputs": [
    {
     "data": {
      "text/plain": [
       "['data',\n",
       " 'target',\n",
       " 'frame',\n",
       " 'target_names',\n",
       " 'DESCR',\n",
       " 'feature_names',\n",
       " 'filename',\n",
       " 'data_module']"
      ]
     },
     "execution_count": 27,
     "metadata": {},
     "output_type": "execute_result"
    }
   ],
   "source": [
    "# Logistic regression\n",
    "\n",
    "from sklearn import datasets\n",
    "iris = datasets.load_iris()\n",
    "list(iris.keys())"
   ]
  },
  {
   "cell_type": "code",
   "execution_count": 28,
   "id": "588a5273-3c36-4f39-9847-ac4b9d0133e6",
   "metadata": {},
   "outputs": [],
   "source": [
    "X = iris[\"data\"][:, 3:]  # petal width\n",
    "y = (iris[\"target\"] == 2).astype(int)  # 1 if Iris virginica, else 0"
   ]
  },
  {
   "cell_type": "code",
   "execution_count": 29,
   "id": "17e04c1a-20cb-4d2b-b4c5-30240b3ec957",
   "metadata": {},
   "outputs": [
    {
     "data": {
      "text/plain": [
       "LogisticRegression()"
      ]
     },
     "execution_count": 29,
     "metadata": {},
     "output_type": "execute_result"
    }
   ],
   "source": [
    "from sklearn.linear_model import LogisticRegression\n",
    "\n",
    "log_reg = LogisticRegression()\n",
    "log_reg.fit(X, y)"
   ]
  },
  {
   "cell_type": "code",
   "execution_count": 30,
   "id": "50edb81e-4bdf-4795-9ec9-b21e1ba40de5",
   "metadata": {},
   "outputs": [
    {
     "data": {
      "text/plain": [
       "[<matplotlib.lines.Line2D at 0x7fdeb454a3a0>]"
      ]
     },
     "execution_count": 30,
     "metadata": {},
     "output_type": "execute_result"
    },
    {
     "data": {
      "image/png": "[encoded data removed]",
      "text/plain": [
       "<Figure size 432x288 with 1 Axes>"
      ]
     },
     "metadata": {
      "needs_background": "light"
     },
     "output_type": "display_data"
    }
   ],
   "source": [
    "X_new = np.linspace(0, 3, 1000).reshape(-1, 1)\n",
    "y_proba = log_reg.predict_proba(X_new)\n",
    "plt.plot(X_new, y_proba[:, 1], \"g-\", label=\"Iris virginica\")\n",
    "plt.plot(X_new, y_proba[:, 0], \"b--\", label=\"Not Iris virginica\")"
   ]
  },
  {
   "cell_type": "code",
   "execution_count": null,
   "id": "edda0c60-2c86-4105-a95b-0cfb001eb52b",
   "metadata": {},
   "outputs": [],
   "source": []
  }
 ],
 "metadata": {
  "kernelspec": {
   "display_name": "Python 3 (ipykernel)",
   "language": "python",
   "name": "python3"
  },
  "language_info": {
   "codemirror_mode": {
    "name": "ipython",
    "version": 3
   },
   "file_extension": ".py",
   "mimetype": "text/x-python",
   "name": "python",
   "nbconvert_exporter": "python",
   "pygments_lexer": "ipython3",
   "version": "3.9.12"
  }
 },
 "nbformat": 4,
 "nbformat_minor": 5
}
