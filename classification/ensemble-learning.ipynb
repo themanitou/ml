{
 "cells": [
  {
   "cell_type": "code",
   "execution_count": 1,
   "id": "d275fe4d-060f-4f8b-8e1e-6145a6a35648",
   "metadata": {
    "tags": []
   },
   "outputs": [],
   "source": [
    "from sklearn.model_selection import train_test_split\n",
    "from sklearn.datasets import make_moons\n",
    "\n",
    "X, y = make_moons(n_samples=500, noise=0.30, random_state=42)\n",
    "X_train, X_test, y_train, y_test = train_test_split(X, y, random_state=42)"
   ]
  },
  {
   "cell_type": "code",
   "execution_count": 2,
   "id": "d2954ec1-8145-4144-bac9-bcf5cff29415",
   "metadata": {
    "tags": []
   },
   "outputs": [],
   "source": [
    "from sklearn.ensemble import RandomForestClassifier\n",
    "from sklearn.ensemble import VotingClassifier\n",
    "from sklearn.linear_model import LogisticRegression\n",
    "from sklearn.svm import SVC\n",
    "\n",
    "log_clf = LogisticRegression(solver=\"lbfgs\", random_state=42)\n",
    "rnd_clf = RandomForestClassifier(n_estimators=100, random_state=42)\n",
    "svm_clf = SVC(gamma=\"scale\", probability=True, random_state=42)\n",
    "\n",
    "voting_clf = VotingClassifier(\n",
    "    estimators=[('lr', log_clf), ('rf', rnd_clf), ('svc', svm_clf)],\n",
    "    voting='soft'\n",
    ")"
   ]
  },
  {
   "cell_type": "code",
   "execution_count": 3,
   "id": "a162fd9e-53c0-416a-bd32-d03f46923849",
   "metadata": {
    "tags": []
   },
   "outputs": [
    {
     "name": "stdout",
     "output_type": "stream",
     "text": [
      "LogisticRegression 0.864\n",
      "RandomForestClassifier 0.896\n",
      "SVC 0.896\n",
      "VotingClassifier 0.92\n"
     ]
    }
   ],
   "source": [
    "from sklearn.metrics import accuracy_score\n",
    "\n",
    "for clf in (log_clf, rnd_clf, svm_clf, voting_clf):\n",
    "    clf.fit(X_train, y_train)\n",
    "    y_pred = clf.predict(X_test)\n",
    "    print(clf.__class__.__name__, accuracy_score(y_test, y_pred))"
   ]
  },
  {
   "cell_type": "code",
   "execution_count": 4,
   "id": "c697ecba-aacd-481e-8ee0-3eb854b6a1a8",
   "metadata": {
    "tags": []
   },
   "outputs": [
    {
     "data": {
      "text/plain": [
       "0.904"
      ]
     },
     "execution_count": 4,
     "metadata": {},
     "output_type": "execute_result"
    }
   ],
   "source": [
    "# Bagging and Pasting\n",
    "\n",
    "from sklearn.ensemble import BaggingClassifier\n",
    "from sklearn.tree import DecisionTreeClassifier\n",
    "\n",
    "bag_clf = BaggingClassifier(\n",
    "    DecisionTreeClassifier(),\n",
    "    n_estimators=500,\n",
    "    max_samples=100,\n",
    "    bootstrap=True,\n",
    "    n_jobs=-1,\n",
    "    random_state=42\n",
    ")\n",
    "\n",
    "bag_clf.fit(X_train, y_train)\n",
    "y_pred = bag_clf.predict(X_test)\n",
    "accuracy_score(y_test, y_pred)"
   ]
  },
  {
   "cell_type": "code",
   "execution_count": 5,
   "id": "927e5356-bc2e-4545-bca5-3639abd3296b",
   "metadata": {
    "tags": []
   },
   "outputs": [
    {
     "data": {
      "text/plain": [
       "0.856"
      ]
     },
     "execution_count": 5,
     "metadata": {},
     "output_type": "execute_result"
    }
   ],
   "source": [
    "tree_clf = DecisionTreeClassifier(random_state=42)\n",
    "tree_clf.fit(X_train, y_train)\n",
    "y_pred_tree = tree_clf.predict(X_test)\n",
    "accuracy_score(y_test, y_pred_tree)"
   ]
  },
  {
   "cell_type": "code",
   "execution_count": 6,
   "id": "560bd0da-ba00-4fce-b296-04d55cbecced",
   "metadata": {
    "tags": []
   },
   "outputs": [
    {
     "data": {
      "text/plain": [
       "0.9226666666666666"
      ]
     },
     "execution_count": 6,
     "metadata": {},
     "output_type": "execute_result"
    }
   ],
   "source": [
    "bag_clf = BaggingClassifier(\n",
    "    DecisionTreeClassifier(),\n",
    "    n_estimators=500,\n",
    "    max_samples=100,\n",
    "    bootstrap=True,\n",
    "    n_jobs=-1,\n",
    "    oob_score=True,\n",
    "    random_state=40\n",
    ")\n",
    "\n",
    "bag_clf.fit(X_train, y_train)\n",
    "bag_clf.oob_score_"
   ]
  },
  {
   "cell_type": "code",
   "execution_count": 7,
   "id": "be7db6a3-25ff-4153-97d1-968f4f1a7b09",
   "metadata": {
    "tags": []
   },
   "outputs": [
    {
     "data": {
      "text/plain": [
       "0.92"
      ]
     },
     "execution_count": 7,
     "metadata": {},
     "output_type": "execute_result"
    }
   ],
   "source": [
    "y_pred = bag_clf.predict(X_test)\n",
    "accuracy_score(y_test, y_pred)"
   ]
  },
  {
   "cell_type": "code",
   "execution_count": 8,
   "id": "b423cf1e-1598-41ea-8a6e-52181ed1d6c5",
   "metadata": {
    "collapsed": true,
    "jupyter": {
     "outputs_hidden": true
    },
    "tags": []
   },
   "outputs": [
    {
     "data": {
      "text/plain": [
       "array([[0.29350649, 0.70649351],\n",
       "       [0.38743455, 0.61256545],\n",
       "       [1.        , 0.        ],\n",
       "       [0.01333333, 0.98666667],\n",
       "       [0.02857143, 0.97142857],\n",
       "       [0.08888889, 0.91111111],\n",
       "       [0.38121547, 0.61878453],\n",
       "       [0.08108108, 0.91891892],\n",
       "       [0.9327957 , 0.0672043 ],\n",
       "       [0.84224599, 0.15775401],\n",
       "       [0.5309973 , 0.4690027 ],\n",
       "       [0.03674541, 0.96325459],\n",
       "       [0.73453608, 0.26546392],\n",
       "       [0.83819629, 0.16180371],\n",
       "       [0.93523316, 0.06476684],\n",
       "       [0.09677419, 0.90322581],\n",
       "       [0.01804124, 0.98195876],\n",
       "       [0.9276808 , 0.0723192 ],\n",
       "       [0.69553806, 0.30446194],\n",
       "       [0.94750656, 0.05249344],\n",
       "       [0.06111111, 0.93888889],\n",
       "       [0.20104439, 0.79895561],\n",
       "       [0.88947368, 0.11052632],\n",
       "       [0.97662338, 0.02337662],\n",
       "       [0.96373057, 0.03626943],\n",
       "       [0.0026455 , 0.9973545 ],\n",
       "       [0.9469496 , 0.0530504 ],\n",
       "       [1.        , 0.        ],\n",
       "       [0.01595745, 0.98404255],\n",
       "       [0.73209549, 0.26790451],\n",
       "       [0.        , 1.        ],\n",
       "       [0.99481865, 0.00518135],\n",
       "       [0.01617251, 0.98382749],\n",
       "       [0.06878307, 0.93121693],\n",
       "       [0.10050251, 0.89949749],\n",
       "       [0.95037221, 0.04962779],\n",
       "       [0.01305483, 0.98694517],\n",
       "       [0.57723577, 0.42276423],\n",
       "       [0.0052356 , 0.9947644 ],\n",
       "       [1.        , 0.        ],\n",
       "       [0.09462916, 0.90537084],\n",
       "       [0.3125    , 0.6875    ],\n",
       "       [0.99738903, 0.00261097],\n",
       "       [0.99184783, 0.00815217],\n",
       "       [0.00255102, 0.99744898],\n",
       "       [1.        , 0.        ],\n",
       "       [0.99751861, 0.00248139],\n",
       "       [0.04822335, 0.95177665],\n",
       "       [0.98644986, 0.01355014],\n",
       "       [0.05277045, 0.94722955],\n",
       "       [0.96195652, 0.03804348],\n",
       "       [0.824     , 0.176     ],\n",
       "       [0.94545455, 0.05454545],\n",
       "       [0.82820513, 0.17179487],\n",
       "       [0.0183727 , 0.9816273 ],\n",
       "       [0.08      , 0.92      ],\n",
       "       [0.81234568, 0.18765432],\n",
       "       [0.01098901, 0.98901099],\n",
       "       [0.015625  , 0.984375  ],\n",
       "       [0.06486486, 0.93513514],\n",
       "       [0.81185567, 0.18814433],\n",
       "       [0.64507772, 0.35492228],\n",
       "       [0.72580645, 0.27419355],\n",
       "       [0.98172324, 0.01827676],\n",
       "       [0.02645503, 0.97354497],\n",
       "       [0.81052632, 0.18947368],\n",
       "       [0.98663102, 0.01336898],\n",
       "       [0.98404255, 0.01595745],\n",
       "       [0.58224543, 0.41775457],\n",
       "       [0.98200514, 0.01799486],\n",
       "       [0.34231806, 0.65768194],\n",
       "       [0.29457364, 0.70542636],\n",
       "       [0.39528796, 0.60471204],\n",
       "       [0.65      , 0.35      ],\n",
       "       [0.0025974 , 0.9974026 ],\n",
       "       [0.32020997, 0.67979003],\n",
       "       [0.88140162, 0.11859838],\n",
       "       [1.        , 0.        ],\n",
       "       [0.01949861, 0.98050139],\n",
       "       [0.94041451, 0.05958549],\n",
       "       [0.01036269, 0.98963731],\n",
       "       [0.23138298, 0.76861702],\n",
       "       [0.15143603, 0.84856397],\n",
       "       [0.45360825, 0.54639175],\n",
       "       [1.        , 0.        ],\n",
       "       [0.03580563, 0.96419437],\n",
       "       [0.61953728, 0.38046272],\n",
       "       [0.06169666, 0.93830334],\n",
       "       [0.02695418, 0.97304582],\n",
       "       [0.        , 1.        ],\n",
       "       [0.33952255, 0.66047745],\n",
       "       [1.        , 0.        ],\n",
       "       [0.01329787, 0.98670213],\n",
       "       [0.06878307, 0.93121693],\n",
       "       [0.0129199 , 0.9870801 ],\n",
       "       [0.81725888, 0.18274112],\n",
       "       [0.65897436, 0.34102564],\n",
       "       [0.05929919, 0.94070081],\n",
       "       [0.99488491, 0.00511509],\n",
       "       [0.3203125 , 0.6796875 ],\n",
       "       [0.7029703 , 0.2970297 ],\n",
       "       [0.0078329 , 0.9921671 ],\n",
       "       [0.09768638, 0.90231362],\n",
       "       [0.47916667, 0.52083333],\n",
       "       [0.96992481, 0.03007519],\n",
       "       [0.04615385, 0.95384615],\n",
       "       [0.97759104, 0.02240896],\n",
       "       [0.42895442, 0.57104558],\n",
       "       [0.27735369, 0.72264631],\n",
       "       [0.98734177, 0.01265823],\n",
       "       [0.20626632, 0.79373368],\n",
       "       [0.81989247, 0.18010753],\n",
       "       [0.22340426, 0.77659574],\n",
       "       [0.80628272, 0.19371728],\n",
       "       [0.984375  , 0.015625  ],\n",
       "       [1.        , 0.        ],\n",
       "       [0.        , 1.        ],\n",
       "       [0.00263158, 0.99736842],\n",
       "       [0.44198895, 0.55801105],\n",
       "       [0.98927614, 0.01072386],\n",
       "       [0.07526882, 0.92473118],\n",
       "       [0.98408488, 0.01591512],\n",
       "       [0.97631579, 0.02368421],\n",
       "       [0.99494949, 0.00505051],\n",
       "       [0.94973545, 0.05026455],\n",
       "       [0.97619048, 0.02380952],\n",
       "       [0.03007519, 0.96992481],\n",
       "       [0.92408377, 0.07591623],\n",
       "       [0.9541779 , 0.0458221 ],\n",
       "       [0.01785714, 0.98214286],\n",
       "       [0.24102564, 0.75897436],\n",
       "       [0.90697674, 0.09302326],\n",
       "       [0.36202532, 0.63797468],\n",
       "       [0.93243243, 0.06756757],\n",
       "       [0.0075    , 0.9925    ],\n",
       "       [0.02857143, 0.97142857],\n",
       "       [0.78067885, 0.21932115],\n",
       "       [0.68134715, 0.31865285],\n",
       "       [0.56200528, 0.43799472],\n",
       "       [0.87431694, 0.12568306],\n",
       "       [0.91773779, 0.08226221],\n",
       "       [0.15721649, 0.84278351],\n",
       "       [0.84657534, 0.15342466],\n",
       "       [0.05194805, 0.94805195],\n",
       "       [0.01017812, 0.98982188],\n",
       "       [0.10741688, 0.89258312],\n",
       "       [0.73513514, 0.26486486],\n",
       "       [0.97619048, 0.02380952],\n",
       "       [1.        , 0.        ],\n",
       "       [0.04210526, 0.95789474],\n",
       "       [0.00797872, 0.99202128],\n",
       "       [0.06329114, 0.93670886],\n",
       "       [0.01832461, 0.98167539],\n",
       "       [0.99481865, 0.00518135],\n",
       "       [0.95854922, 0.04145078],\n",
       "       [0.88946015, 0.11053985],\n",
       "       [0.99472296, 0.00527704],\n",
       "       [1.        , 0.        ],\n",
       "       [0.8626943 , 0.1373057 ],\n",
       "       [0.01038961, 0.98961039],\n",
       "       [0.68797954, 0.31202046],\n",
       "       [0.3197832 , 0.6802168 ],\n",
       "       [0.05107527, 0.94892473],\n",
       "       [0.01036269, 0.98963731],\n",
       "       [0.39588689, 0.60411311],\n",
       "       [0.99740933, 0.00259067],\n",
       "       [0.96354167, 0.03645833],\n",
       "       [0.00259067, 0.99740933],\n",
       "       [0.98958333, 0.01041667],\n",
       "       [0.04825737, 0.95174263],\n",
       "       [0.0074813 , 0.9925187 ],\n",
       "       [0.95502646, 0.04497354],\n",
       "       [0.01315789, 0.98684211],\n",
       "       [0.        , 1.        ],\n",
       "       [0.99465241, 0.00534759],\n",
       "       [0.03645833, 0.96354167],\n",
       "       [0.81940701, 0.18059299],\n",
       "       [0.94206549, 0.05793451],\n",
       "       [0.02544529, 0.97455471],\n",
       "       [0.92913386, 0.07086614],\n",
       "       [0.9400545 , 0.0599455 ],\n",
       "       [0.97567568, 0.02432432],\n",
       "       [0.01621622, 0.98378378],\n",
       "       [0.00817439, 0.99182561],\n",
       "       [1.        , 0.        ],\n",
       "       [0.2630137 , 0.7369863 ],\n",
       "       [0.99480519, 0.00519481],\n",
       "       [0.09669211, 0.90330789],\n",
       "       [0.01033592, 0.98966408],\n",
       "       [0.9921466 , 0.0078534 ],\n",
       "       [0.        , 1.        ],\n",
       "       [0.20103093, 0.79896907],\n",
       "       [0.88431877, 0.11568123],\n",
       "       [0.91708543, 0.08291457],\n",
       "       [0.62464986, 0.37535014],\n",
       "       [0.66666667, 0.33333333],\n",
       "       [0.03125   , 0.96875   ],\n",
       "       [0.23155216, 0.76844784],\n",
       "       [0.97135417, 0.02864583],\n",
       "       [0.90180879, 0.09819121],\n",
       "       [0.91348601, 0.08651399],\n",
       "       [0.9821883 , 0.0178117 ],\n",
       "       [0.03826531, 0.96173469],\n",
       "       [0.01295337, 0.98704663],\n",
       "       [0.0874036 , 0.9125964 ],\n",
       "       [0.4987013 , 0.5012987 ],\n",
       "       [0.        , 1.        ],\n",
       "       [0.01066667, 0.98933333],\n",
       "       [0.96354167, 0.03645833],\n",
       "       [0.07989691, 0.92010309],\n",
       "       [0.1005291 , 0.8994709 ],\n",
       "       [0.89393939, 0.10606061],\n",
       "       [0.04973822, 0.95026178],\n",
       "       [0.35204082, 0.64795918],\n",
       "       [0.01020408, 0.98979592],\n",
       "       [1.        , 0.        ],\n",
       "       [0.02083333, 0.97916667],\n",
       "       [0.01515152, 0.98484848],\n",
       "       [0.92366412, 0.07633588],\n",
       "       [0.86842105, 0.13157895],\n",
       "       [0.94736842, 0.05263158],\n",
       "       [0.01312336, 0.98687664],\n",
       "       [0.0616622 , 0.9383378 ],\n",
       "       [0.95214106, 0.04785894],\n",
       "       [0.12144703, 0.87855297],\n",
       "       [0.        , 1.        ],\n",
       "       [0.28912467, 0.71087533],\n",
       "       [0.97058824, 0.02941176],\n",
       "       [0.81933842, 0.18066158],\n",
       "       [0.09848485, 0.90151515],\n",
       "       [0.71240106, 0.28759894],\n",
       "       [0.92802057, 0.07197943],\n",
       "       [0.11842105, 0.88157895],\n",
       "       [0.11948052, 0.88051948],\n",
       "       [0.99484536, 0.00515464],\n",
       "       [0.        , 1.        ],\n",
       "       [0.02150538, 0.97849462],\n",
       "       [0.01086957, 0.98913043],\n",
       "       [0.36939314, 0.63060686],\n",
       "       [0.90540541, 0.09459459],\n",
       "       [0.05384615, 0.94615385],\n",
       "       [0.98579545, 0.01420455],\n",
       "       [0.84895833, 0.15104167],\n",
       "       [0.00254453, 0.99745547],\n",
       "       [0.75979112, 0.24020888],\n",
       "       [1.        , 0.        ],\n",
       "       [0.00277778, 0.99722222],\n",
       "       [0.9974359 , 0.0025641 ],\n",
       "       [0.07291667, 0.92708333],\n",
       "       [0.01554404, 0.98445596],\n",
       "       [0.10209424, 0.89790576],\n",
       "       [0.22309711, 0.77690289],\n",
       "       [0.86082474, 0.13917526],\n",
       "       [0.06234414, 0.93765586],\n",
       "       [0.98412698, 0.01587302],\n",
       "       [0.625323  , 0.374677  ],\n",
       "       [0.08730159, 0.91269841],\n",
       "       [0.66237113, 0.33762887],\n",
       "       [0.82871537, 0.17128463],\n",
       "       [0.01578947, 0.98421053],\n",
       "       [0.99210526, 0.00789474],\n",
       "       [0.0265252 , 0.9734748 ],\n",
       "       [0.        , 1.        ],\n",
       "       [0.78109453, 0.21890547],\n",
       "       [0.        , 1.        ],\n",
       "       [0.99238579, 0.00761421],\n",
       "       [0.09947644, 0.90052356],\n",
       "       [0.78205128, 0.21794872],\n",
       "       [0.11538462, 0.88461538],\n",
       "       [0.98697917, 0.01302083],\n",
       "       [0.87365591, 0.12634409],\n",
       "       [0.01066667, 0.98933333],\n",
       "       [0.11167513, 0.88832487],\n",
       "       [0.14705882, 0.85294118],\n",
       "       [0.07611549, 0.92388451],\n",
       "       [0.00247525, 0.99752475],\n",
       "       [0.96694215, 0.03305785],\n",
       "       [0.83589744, 0.16410256],\n",
       "       [0.20580475, 0.79419525],\n",
       "       [0.92167102, 0.07832898],\n",
       "       [0.04404145, 0.95595855],\n",
       "       [0.59137056, 0.40862944],\n",
       "       [0.16266667, 0.83733333],\n",
       "       [0.93129771, 0.06870229],\n",
       "       [0.87969925, 0.12030075],\n",
       "       [0.0104712 , 0.9895288 ],\n",
       "       [0.92151899, 0.07848101],\n",
       "       [0.90745501, 0.09254499],\n",
       "       [0.        , 1.        ],\n",
       "       [0.04113111, 0.95886889],\n",
       "       [0.99445983, 0.00554017],\n",
       "       [0.01851852, 0.98148148],\n",
       "       [0.99749373, 0.00250627],\n",
       "       [0.09399478, 0.90600522],\n",
       "       [0.93041237, 0.06958763],\n",
       "       [1.        , 0.        ],\n",
       "       [0.01526718, 0.98473282],\n",
       "       [0.03723404, 0.96276596],\n",
       "       [0.70133333, 0.29866667],\n",
       "       [0.        , 1.        ],\n",
       "       [0.9974359 , 0.0025641 ],\n",
       "       [0.68668407, 0.31331593],\n",
       "       [0.85013624, 0.14986376],\n",
       "       [0.9921671 , 0.0078329 ],\n",
       "       [0.6878453 , 0.3121547 ],\n",
       "       [0.45257453, 0.54742547],\n",
       "       [0.02051282, 0.97948718],\n",
       "       [0.82245431, 0.17754569],\n",
       "       [0.01058201, 0.98941799],\n",
       "       [0.99739583, 0.00260417],\n",
       "       [0.768     , 0.232     ],\n",
       "       [0.99730458, 0.00269542],\n",
       "       [0.99742268, 0.00257732],\n",
       "       [0.82442748, 0.17557252],\n",
       "       [0.28032345, 0.71967655],\n",
       "       [0.15281501, 0.84718499],\n",
       "       [0.18387909, 0.81612091],\n",
       "       [0.00269542, 0.99730458],\n",
       "       [0.72135417, 0.27864583],\n",
       "       [0.8501292 , 0.1498708 ],\n",
       "       [0.0530504 , 0.9469496 ],\n",
       "       [0.99742931, 0.00257069],\n",
       "       [0.97066667, 0.02933333],\n",
       "       [0.99475066, 0.00524934],\n",
       "       [0.        , 1.        ],\n",
       "       [0.06377551, 0.93622449],\n",
       "       [0.93882979, 0.06117021],\n",
       "       [0.90981432, 0.09018568],\n",
       "       [0.9973545 , 0.0026455 ],\n",
       "       [0.19240506, 0.80759494],\n",
       "       [0.98387097, 0.01612903],\n",
       "       [0.10621762, 0.89378238],\n",
       "       [0.91863517, 0.08136483],\n",
       "       [0.03916449, 0.96083551],\n",
       "       [0.98648649, 0.01351351],\n",
       "       [0.98659517, 0.01340483],\n",
       "       [0.992     , 0.008     ],\n",
       "       [0.00274725, 0.99725275],\n",
       "       [0.94808743, 0.05191257],\n",
       "       [0.00506329, 0.99493671],\n",
       "       [0.0675    , 0.9325    ],\n",
       "       [0.05      , 0.95      ],\n",
       "       [0.        , 1.        ],\n",
       "       [1.        , 0.        ],\n",
       "       [0.96623377, 0.03376623],\n",
       "       [0.        , 1.        ],\n",
       "       [0.94973545, 0.05026455],\n",
       "       [0.08923885, 0.91076115],\n",
       "       [0.99480519, 0.00519481],\n",
       "       [0.1943734 , 0.8056266 ],\n",
       "       [0.00775194, 0.99224806],\n",
       "       [0.06426735, 0.93573265],\n",
       "       [0.00767263, 0.99232737],\n",
       "       [0.78961039, 0.21038961],\n",
       "       [0.04724409, 0.95275591],\n",
       "       [0.11219512, 0.88780488],\n",
       "       [0.99459459, 0.00540541],\n",
       "       [0.95396419, 0.04603581],\n",
       "       [0.20209974, 0.79790026],\n",
       "       [0.93233083, 0.06766917],\n",
       "       [0.05194805, 0.94805195],\n",
       "       [0.09701493, 0.90298507],\n",
       "       [0.98421053, 0.01578947],\n",
       "       [0.94986807, 0.05013193],\n",
       "       [0.56648936, 0.43351064],\n",
       "       [0.8797954 , 0.1202046 ],\n",
       "       [0.99487179, 0.00512821],\n",
       "       [0.03166227, 0.96833773],\n",
       "       [0.94179894, 0.05820106],\n",
       "       [0.03723404, 0.96276596],\n",
       "       [0.14615385, 0.85384615],\n",
       "       [0.92054795, 0.07945205],\n",
       "       [1.        , 0.        ],\n",
       "       [0.08040201, 0.91959799],\n",
       "       [0.70618557, 0.29381443]])"
      ]
     },
     "execution_count": 8,
     "metadata": {},
     "output_type": "execute_result"
    }
   ],
   "source": [
    "bag_clf.oob_decision_function_"
   ]
  },
  {
   "cell_type": "code",
   "execution_count": 10,
   "id": "4680c805-a5f5-48e5-924b-4d1456057826",
   "metadata": {
    "tags": []
   },
   "outputs": [
    {
     "data": {
      "text/plain": [
       "0.92"
      ]
     },
     "execution_count": 10,
     "metadata": {},
     "output_type": "execute_result"
    }
   ],
   "source": [
    "# random forest\n",
    "\n",
    "from sklearn.ensemble import RandomForestClassifier\n",
    "\n",
    "rnd_clf = RandomForestClassifier(n_estimators=500, max_leaf_nodes=16, n_jobs=-1)\n",
    "rnd_clf.fit(X_train, y_train)\n",
    "\n",
    "y_pred_rf = rnd_clf.predict(X_test)\n",
    "accuracy_score(y_test, y_pred_rf)"
   ]
  },
  {
   "cell_type": "code",
   "execution_count": 14,
   "id": "3c303366-c898-49c1-b422-04fe34a7a80c",
   "metadata": {
    "tags": []
   },
   "outputs": [
    {
     "name": "stdout",
     "output_type": "stream",
     "text": [
      "sepal length (cm) 0.09755163695612955\n",
      "sepal width (cm) 0.02360291953162654\n",
      "petal length (cm) 0.4442316032773431\n",
      "petal width (cm) 0.4346138402349008\n"
     ]
    }
   ],
   "source": [
    "# feature importance\n",
    "\n",
    "from sklearn.datasets import load_iris\n",
    "\n",
    "iris = load_iris()\n",
    "rnd_clf = RandomForestClassifier(n_estimators=500, n_jobs=-1)\n",
    "rnd_clf.fit(iris[\"data\"], iris[\"target\"])\n",
    "\n",
    "for name, score in zip(iris[\"feature_names\"], rnd_clf.feature_importances_):\n",
    "    print(name, score)"
   ]
  },
  {
   "cell_type": "code",
   "execution_count": 15,
   "id": "28afa0ae-5a04-49c4-88cd-00ced491157e",
   "metadata": {
    "tags": []
   },
   "outputs": [
    {
     "data": {
      "text/plain": [
       "0.896"
      ]
     },
     "execution_count": 15,
     "metadata": {},
     "output_type": "execute_result"
    }
   ],
   "source": [
    "# Ada boosting\n",
    "\n",
    "from sklearn.ensemble import AdaBoostClassifier\n",
    "\n",
    "ada_clf = AdaBoostClassifier(\n",
    "    DecisionTreeClassifier(max_depth=1),\n",
    "    n_estimators=200,\n",
    "    algorithm=\"SAMME.R\",\n",
    "    learning_rate=0.5\n",
    ")\n",
    "\n",
    "ada_clf.fit(X_train, y_train)\n",
    "\n",
    "y_pred_ada = ada_clf.predict(X_test)\n",
    "accuracy_score(y_test, y_pred_ada)"
   ]
  },
  {
   "cell_type": "code",
   "execution_count": 28,
   "id": "786d6cab-4d94-430e-8e3a-1caf393bbd8a",
   "metadata": {
    "tags": []
   },
   "outputs": [],
   "source": [
    "# Gradient boosting\n",
    "\n",
    "from sklearn.tree import DecisionTreeRegressor\n",
    "import numpy as np\n",
    "\n",
    "tree_reg1 = DecisionTreeRegressor(max_depth=2)\n",
    "tree_reg1.fit(X_train, y_train)\n",
    "\n",
    "y2 = y_train - tree_reg1.predict(X_train)\n",
    "tree_reg2 = DecisionTreeRegressor(max_depth=2)\n",
    "tree_reg2.fit(X_train, y2)\n",
    "\n",
    "y3 = y2 - tree_reg2.predict(X_train)\n",
    "tree_reg3 = DecisionTreeRegressor(max_depth=2)\n",
    "tree_reg3.fit(X_train, y3)\n",
    "\n",
    "y_pred = np.rint(sum(tree.predict(X_test) for tree in (tree_reg1, tree_reg2, tree_reg3)))"
   ]
  },
  {
   "cell_type": "code",
   "execution_count": 30,
   "id": "cb7b3194-20fb-4b2b-814a-4939d6f1841f",
   "metadata": {
    "tags": []
   },
   "outputs": [
    {
     "data": {
      "text/plain": [
       "0.896"
      ]
     },
     "execution_count": 30,
     "metadata": {},
     "output_type": "execute_result"
    }
   ],
   "source": [
    "accuracy_score(y_test, y_pred)"
   ]
  },
  {
   "cell_type": "code",
   "execution_count": 41,
   "id": "414358ed-ee8e-4831-bdbd-bbf8929f4784",
   "metadata": {
    "tags": []
   },
   "outputs": [],
   "source": [
    "from sklearn.ensemble import GradientBoostingRegressor\n",
    "\n",
    "gbrt = GradientBoostingRegressor(max_depth=2, n_estimators=3, learning_rate=1.0)\n",
    "gbrt.fit(X_train, y_train)\n",
    "\n",
    "y_pred = np.rint(gbrt.predict(X_test))"
   ]
  },
  {
   "cell_type": "code",
   "execution_count": 42,
   "id": "79e0789b-bed9-422b-93a2-1d3fb46e4cd0",
   "metadata": {
    "tags": []
   },
   "outputs": [
    {
     "data": {
      "text/plain": [
       "0.896"
      ]
     },
     "execution_count": 42,
     "metadata": {},
     "output_type": "execute_result"
    }
   ],
   "source": [
    "accuracy_score(y_test, y_pred)"
   ]
  },
  {
   "cell_type": "code",
   "execution_count": 56,
   "id": "93cc0629-b64b-4b0e-8c30-eebcb1201144",
   "metadata": {
    "tags": []
   },
   "outputs": [
    {
     "data": {
      "text/html": [
       "<style>#sk-container-id-6 {color: black;}#sk-container-id-6 pre{padding: 0;}#sk-container-id-6 div.sk-toggleable {background-color: white;}#sk-container-id-6 label.sk-toggleable__label {cursor: pointer;display: block;width: 100%;margin-bottom: 0;padding: 0.3em;box-sizing: border-box;text-align: center;}#sk-container-id-6 label.sk-toggleable__label-arrow:before {content: \"▸\";float: left;margin-right: 0.25em;color: #696969;}#sk-container-id-6 label.sk-toggleable__label-arrow:hover:before {color: black;}#sk-container-id-6 div.sk-estimator:hover label.sk-toggleable__label-arrow:before {color: black;}#sk-container-id-6 div.sk-toggleable__content {max-height: 0;max-width: 0;overflow: hidden;text-align: left;background-color: #f0f8ff;}#sk-container-id-6 div.sk-toggleable__content pre {margin: 0.2em;color: black;border-radius: 0.25em;background-color: #f0f8ff;}#sk-container-id-6 input.sk-toggleable__control:checked~div.sk-toggleable__content {max-height: 200px;max-width: 100%;overflow: auto;}#sk-container-id-6 input.sk-toggleable__control:checked~label.sk-toggleable__label-arrow:before {content: \"▾\";}#sk-container-id-6 div.sk-estimator input.sk-toggleable__control:checked~label.sk-toggleable__label {background-color: #d4ebff;}#sk-container-id-6 div.sk-label input.sk-toggleable__control:checked~label.sk-toggleable__label {background-color: #d4ebff;}#sk-container-id-6 input.sk-hidden--visually {border: 0;clip: rect(1px 1px 1px 1px);clip: rect(1px, 1px, 1px, 1px);height: 1px;margin: -1px;overflow: hidden;padding: 0;position: absolute;width: 1px;}#sk-container-id-6 div.sk-estimator {font-family: monospace;background-color: #f0f8ff;border: 1px dotted black;border-radius: 0.25em;box-sizing: border-box;margin-bottom: 0.5em;}#sk-container-id-6 div.sk-estimator:hover {background-color: #d4ebff;}#sk-container-id-6 div.sk-parallel-item::after {content: \"\";width: 100%;border-bottom: 1px solid gray;flex-grow: 1;}#sk-container-id-6 div.sk-label:hover label.sk-toggleable__label {background-color: #d4ebff;}#sk-container-id-6 div.sk-serial::before {content: \"\";position: absolute;border-left: 1px solid gray;box-sizing: border-box;top: 0;bottom: 0;left: 50%;z-index: 0;}#sk-container-id-6 div.sk-serial {display: flex;flex-direction: column;align-items: center;background-color: white;padding-right: 0.2em;padding-left: 0.2em;position: relative;}#sk-container-id-6 div.sk-item {position: relative;z-index: 1;}#sk-container-id-6 div.sk-parallel {display: flex;align-items: stretch;justify-content: center;background-color: white;position: relative;}#sk-container-id-6 div.sk-item::before, #sk-container-id-6 div.sk-parallel-item::before {content: \"\";position: absolute;border-left: 1px solid gray;box-sizing: border-box;top: 0;bottom: 0;left: 50%;z-index: -1;}#sk-container-id-6 div.sk-parallel-item {display: flex;flex-direction: column;z-index: 1;position: relative;background-color: white;}#sk-container-id-6 div.sk-parallel-item:first-child::after {align-self: flex-end;width: 50%;}#sk-container-id-6 div.sk-parallel-item:last-child::after {align-self: flex-start;width: 50%;}#sk-container-id-6 div.sk-parallel-item:only-child::after {width: 0;}#sk-container-id-6 div.sk-dashed-wrapped {border: 1px dashed gray;margin: 0 0.4em 0.5em 0.4em;box-sizing: border-box;padding-bottom: 0.4em;background-color: white;}#sk-container-id-6 div.sk-label label {font-family: monospace;font-weight: bold;display: inline-block;line-height: 1.2em;}#sk-container-id-6 div.sk-label-container {text-align: center;}#sk-container-id-6 div.sk-container {/* jupyter's `normalize.less` sets `[hidden] { display: none; }` but bootstrap.min.css set `[hidden] { display: none !important; }` so we also need the `!important` here to be able to override the default hidden behavior on the sphinx rendered scikit-learn.org. See: https://github.com/scikit-learn/scikit-learn/issues/21755 */display: inline-block !important;position: relative;}#sk-container-id-6 div.sk-text-repr-fallback {display: none;}</style><div id=\"sk-container-id-6\" class=\"sk-top-container\"><div class=\"sk-text-repr-fallback\"><pre>GradientBoostingRegressor(max_depth=2, n_estimators=32)</pre><b>In a Jupyter environment, please rerun this cell to show the HTML representation or trust the notebook. <br />On GitHub, the HTML representation is unable to render, please try loading this page with nbviewer.org.</b></div><div class=\"sk-container\" hidden><div class=\"sk-item\"><div class=\"sk-estimator sk-toggleable\"><input class=\"sk-toggleable__control sk-hidden--visually\" id=\"sk-estimator-id-6\" type=\"checkbox\" checked><label for=\"sk-estimator-id-6\" class=\"sk-toggleable__label sk-toggleable__label-arrow\">GradientBoostingRegressor</label><div class=\"sk-toggleable__content\"><pre>GradientBoostingRegressor(max_depth=2, n_estimators=32)</pre></div></div></div></div></div>"
      ],
      "text/plain": [
       "GradientBoostingRegressor(max_depth=2, n_estimators=32)"
      ]
     },
     "execution_count": 56,
     "metadata": {},
     "output_type": "execute_result"
    }
   ],
   "source": [
    "from sklearn.model_selection import train_test_split\n",
    "from sklearn.metrics import mean_squared_error\n",
    "\n",
    "m = 200\n",
    "X = 6 * np.random.rand(m, 1) - 3\n",
    "y = 0.5 * X**2 + X + 2 + np.random.randn(m, 1)\n",
    "\n",
    "X_train, X_val, y_train, y_val = train_test_split(X, y)\n",
    "\n",
    "gbrt = GradientBoostingRegressor(max_depth=2, n_estimators=120)\n",
    "gbrt.fit(X_train, y_train.ravel())\n",
    "\n",
    "errors = [mean_squared_error(y_val, y_pred) for y_pred in gbrt.staged_predict(X_val)]\n",
    "bst_n_estimators = np.argmin(errors) + 1\n",
    "\n",
    "gbrt_best = GradientBoostingRegressor(max_depth=2, n_estimators=bst_n_estimators)\n",
    "gbrt_best.fit(X_train, y_train.ravel())"
   ]
  },
  {
   "cell_type": "code",
   "execution_count": 60,
   "id": "e90cc3c8-b71b-4206-a112-3f965f6f962c",
   "metadata": {
    "tags": []
   },
   "outputs": [],
   "source": [
    "gbrt = GradientBoostingRegressor(max_depth=2, warm_start=True)\n",
    "\n",
    "min_val_error = float(\"inf\")\n",
    "error_going_up = 0\n",
    "for n_estimators in range(1, 120):\n",
    "    gbrt.n_estimators = n_estimators\n",
    "    gbrt.fit(X_train, y_train.ravel())\n",
    "    y_pred = gbrt.predict(X_val)\n",
    "    val_error = mean_squared_error(y_val, y_pred)\n",
    "    if val_error < min_val_error:\n",
    "        min_val_error = val_error\n",
    "        error_going_up = 0\n",
    "    else:\n",
    "        error_going_up += 1\n",
    "        if error_going_up == 5:\n",
    "            break   # early stopping"
   ]
  },
  {
   "cell_type": "code",
   "execution_count": 63,
   "id": "fc660620-3c99-440c-b28c-dd0ed1841c43",
   "metadata": {
    "tags": []
   },
   "outputs": [
    {
     "name": "stdout",
     "output_type": "stream",
     "text": [
      "[0]\tvalidation_0-rmse:2.64507\n",
      "[1]\tvalidation_0-rmse:1.99173\n",
      "[2]\tvalidation_0-rmse:1.60981\n",
      "[3]\tvalidation_0-rmse:1.39387\n",
      "[4]\tvalidation_0-rmse:1.27240\n",
      "[5]\tvalidation_0-rmse:1.22875\n",
      "[6]\tvalidation_0-rmse:1.21273\n",
      "[7]\tvalidation_0-rmse:1.23555\n",
      "[8]\tvalidation_0-rmse:1.24589\n"
     ]
    }
   ],
   "source": [
    "import xgboost\n",
    "\n",
    "xgb_reg = xgboost.XGBRegressor(early_stopping_rounds=2)\n",
    "xgb_reg.fit(X_train, y_train,\n",
    "            eval_set=[(X_val, y_val)])\n",
    "y_pred = xgb_reg.predict(X_val)"
   ]
  },
  {
   "cell_type": "code",
   "execution_count": null,
   "id": "938df4bd-ef2c-4e8d-8e7a-94565741ea3e",
   "metadata": {},
   "outputs": [],
   "source": []
  }
 ],
 "metadata": {
  "kernelspec": {
   "display_name": "Python 3 (ipykernel)",
   "language": "python",
   "name": "python3"
  },
  "language_info": {
   "codemirror_mode": {
    "name": "ipython",
    "version": 3
   },
   "file_extension": ".py",
   "mimetype": "text/x-python",
   "name": "python",
   "nbconvert_exporter": "python",
   "pygments_lexer": "ipython3",
   "version": "3.9.17"
  }
 },
 "nbformat": 4,
 "nbformat_minor": 5
}
