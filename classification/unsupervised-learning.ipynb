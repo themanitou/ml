{
 "cells": [
  {
   "cell_type": "code",
   "execution_count": 154,
   "id": "a5410f85-3161-48ad-b367-6f83d9347398",
   "metadata": {
    "tags": []
   },
   "outputs": [],
   "source": [
    "# Using clustering for preprocessing\n",
    "\n",
    "from sklearn.datasets import load_digits\n",
    "\n",
    "X_digits, y_digits = load_digits(return_X_y=True)"
   ]
  },
  {
   "cell_type": "code",
   "execution_count": 155,
   "id": "5d4f2ddf-7dfc-4bcf-96bb-acf5fdd6d414",
   "metadata": {
    "tags": []
   },
   "outputs": [],
   "source": [
    "from sklearn.model_selection import train_test_split\n",
    "\n",
    "X_train, X_test, y_train, y_test = train_test_split(X_digits, y_digits)"
   ]
  },
  {
   "cell_type": "code",
   "execution_count": 156,
   "id": "51257e11-88a6-4de4-97e6-dcbbaadc2131",
   "metadata": {
    "tags": []
   },
   "outputs": [
    {
     "data": {
      "text/html": [
       "<style>#sk-container-id-22 {color: black;background-color: white;}#sk-container-id-22 pre{padding: 0;}#sk-container-id-22 div.sk-toggleable {background-color: white;}#sk-container-id-22 label.sk-toggleable__label {cursor: pointer;display: block;width: 100%;margin-bottom: 0;padding: 0.3em;box-sizing: border-box;text-align: center;}#sk-container-id-22 label.sk-toggleable__label-arrow:before {content: \"▸\";float: left;margin-right: 0.25em;color: #696969;}#sk-container-id-22 label.sk-toggleable__label-arrow:hover:before {color: black;}#sk-container-id-22 div.sk-estimator:hover label.sk-toggleable__label-arrow:before {color: black;}#sk-container-id-22 div.sk-toggleable__content {max-height: 0;max-width: 0;overflow: hidden;text-align: left;background-color: #f0f8ff;}#sk-container-id-22 div.sk-toggleable__content pre {margin: 0.2em;color: black;border-radius: 0.25em;background-color: #f0f8ff;}#sk-container-id-22 input.sk-toggleable__control:checked~div.sk-toggleable__content {max-height: 200px;max-width: 100%;overflow: auto;}#sk-container-id-22 input.sk-toggleable__control:checked~label.sk-toggleable__label-arrow:before {content: \"▾\";}#sk-container-id-22 div.sk-estimator input.sk-toggleable__control:checked~label.sk-toggleable__label {background-color: #d4ebff;}#sk-container-id-22 div.sk-label input.sk-toggleable__control:checked~label.sk-toggleable__label {background-color: #d4ebff;}#sk-container-id-22 input.sk-hidden--visually {border: 0;clip: rect(1px 1px 1px 1px);clip: rect(1px, 1px, 1px, 1px);height: 1px;margin: -1px;overflow: hidden;padding: 0;position: absolute;width: 1px;}#sk-container-id-22 div.sk-estimator {font-family: monospace;background-color: #f0f8ff;border: 1px dotted black;border-radius: 0.25em;box-sizing: border-box;margin-bottom: 0.5em;}#sk-container-id-22 div.sk-estimator:hover {background-color: #d4ebff;}#sk-container-id-22 div.sk-parallel-item::after {content: \"\";width: 100%;border-bottom: 1px solid gray;flex-grow: 1;}#sk-container-id-22 div.sk-label:hover label.sk-toggleable__label {background-color: #d4ebff;}#sk-container-id-22 div.sk-serial::before {content: \"\";position: absolute;border-left: 1px solid gray;box-sizing: border-box;top: 0;bottom: 0;left: 50%;z-index: 0;}#sk-container-id-22 div.sk-serial {display: flex;flex-direction: column;align-items: center;background-color: white;padding-right: 0.2em;padding-left: 0.2em;position: relative;}#sk-container-id-22 div.sk-item {position: relative;z-index: 1;}#sk-container-id-22 div.sk-parallel {display: flex;align-items: stretch;justify-content: center;background-color: white;position: relative;}#sk-container-id-22 div.sk-item::before, #sk-container-id-22 div.sk-parallel-item::before {content: \"\";position: absolute;border-left: 1px solid gray;box-sizing: border-box;top: 0;bottom: 0;left: 50%;z-index: -1;}#sk-container-id-22 div.sk-parallel-item {display: flex;flex-direction: column;z-index: 1;position: relative;background-color: white;}#sk-container-id-22 div.sk-parallel-item:first-child::after {align-self: flex-end;width: 50%;}#sk-container-id-22 div.sk-parallel-item:last-child::after {align-self: flex-start;width: 50%;}#sk-container-id-22 div.sk-parallel-item:only-child::after {width: 0;}#sk-container-id-22 div.sk-dashed-wrapped {border: 1px dashed gray;margin: 0 0.4em 0.5em 0.4em;box-sizing: border-box;padding-bottom: 0.4em;background-color: white;}#sk-container-id-22 div.sk-label label {font-family: monospace;font-weight: bold;display: inline-block;line-height: 1.2em;}#sk-container-id-22 div.sk-label-container {text-align: center;}#sk-container-id-22 div.sk-container {/* jupyter's `normalize.less` sets `[hidden] { display: none; }` but bootstrap.min.css set `[hidden] { display: none !important; }` so we also need the `!important` here to be able to override the default hidden behavior on the sphinx rendered scikit-learn.org. See: https://github.com/scikit-learn/scikit-learn/issues/21755 */display: inline-block !important;position: relative;}#sk-container-id-22 div.sk-text-repr-fallback {display: none;}</style><div id=\"sk-container-id-22\" class=\"sk-top-container\"><div class=\"sk-text-repr-fallback\"><pre>LogisticRegression(max_iter=5000, multi_class=&#x27;ovr&#x27;, random_state=42)</pre><b>In a Jupyter environment, please rerun this cell to show the HTML representation or trust the notebook. <br />On GitHub, the HTML representation is unable to render, please try loading this page with nbviewer.org.</b></div><div class=\"sk-container\" hidden><div class=\"sk-item\"><div class=\"sk-estimator sk-toggleable\"><input class=\"sk-toggleable__control sk-hidden--visually\" id=\"sk-estimator-id-54\" type=\"checkbox\" checked><label for=\"sk-estimator-id-54\" class=\"sk-toggleable__label sk-toggleable__label-arrow\">LogisticRegression</label><div class=\"sk-toggleable__content\"><pre>LogisticRegression(max_iter=5000, multi_class=&#x27;ovr&#x27;, random_state=42)</pre></div></div></div></div></div>"
      ],
      "text/plain": [
       "LogisticRegression(max_iter=5000, multi_class='ovr', random_state=42)"
      ]
     },
     "execution_count": 156,
     "metadata": {},
     "output_type": "execute_result"
    }
   ],
   "source": [
    "from sklearn.linear_model import LogisticRegression\n",
    "\n",
    "log_reg = LogisticRegression(multi_class=\"ovr\", solver=\"lbfgs\", max_iter=5000, random_state=42)\n",
    "log_reg.fit(X_train, y_train)"
   ]
  },
  {
   "cell_type": "code",
   "execution_count": 157,
   "id": "c0a42963-2757-41ac-818c-a03cb3b13a4d",
   "metadata": {
    "tags": []
   },
   "outputs": [
    {
     "data": {
      "text/plain": [
       "0.9733333333333334"
      ]
     },
     "execution_count": 157,
     "metadata": {},
     "output_type": "execute_result"
    }
   ],
   "source": [
    "# baseline \n",
    "log_reg.score(X_test, y_test)"
   ]
  },
  {
   "cell_type": "code",
   "execution_count": 158,
   "id": "ca2a2deb-24a3-4e05-a9f5-6d828590cafd",
   "metadata": {
    "tags": []
   },
   "outputs": [
    {
     "data": {
      "text/html": [
       "<style>#sk-container-id-23 {color: black;background-color: white;}#sk-container-id-23 pre{padding: 0;}#sk-container-id-23 div.sk-toggleable {background-color: white;}#sk-container-id-23 label.sk-toggleable__label {cursor: pointer;display: block;width: 100%;margin-bottom: 0;padding: 0.3em;box-sizing: border-box;text-align: center;}#sk-container-id-23 label.sk-toggleable__label-arrow:before {content: \"▸\";float: left;margin-right: 0.25em;color: #696969;}#sk-container-id-23 label.sk-toggleable__label-arrow:hover:before {color: black;}#sk-container-id-23 div.sk-estimator:hover label.sk-toggleable__label-arrow:before {color: black;}#sk-container-id-23 div.sk-toggleable__content {max-height: 0;max-width: 0;overflow: hidden;text-align: left;background-color: #f0f8ff;}#sk-container-id-23 div.sk-toggleable__content pre {margin: 0.2em;color: black;border-radius: 0.25em;background-color: #f0f8ff;}#sk-container-id-23 input.sk-toggleable__control:checked~div.sk-toggleable__content {max-height: 200px;max-width: 100%;overflow: auto;}#sk-container-id-23 input.sk-toggleable__control:checked~label.sk-toggleable__label-arrow:before {content: \"▾\";}#sk-container-id-23 div.sk-estimator input.sk-toggleable__control:checked~label.sk-toggleable__label {background-color: #d4ebff;}#sk-container-id-23 div.sk-label input.sk-toggleable__control:checked~label.sk-toggleable__label {background-color: #d4ebff;}#sk-container-id-23 input.sk-hidden--visually {border: 0;clip: rect(1px 1px 1px 1px);clip: rect(1px, 1px, 1px, 1px);height: 1px;margin: -1px;overflow: hidden;padding: 0;position: absolute;width: 1px;}#sk-container-id-23 div.sk-estimator {font-family: monospace;background-color: #f0f8ff;border: 1px dotted black;border-radius: 0.25em;box-sizing: border-box;margin-bottom: 0.5em;}#sk-container-id-23 div.sk-estimator:hover {background-color: #d4ebff;}#sk-container-id-23 div.sk-parallel-item::after {content: \"\";width: 100%;border-bottom: 1px solid gray;flex-grow: 1;}#sk-container-id-23 div.sk-label:hover label.sk-toggleable__label {background-color: #d4ebff;}#sk-container-id-23 div.sk-serial::before {content: \"\";position: absolute;border-left: 1px solid gray;box-sizing: border-box;top: 0;bottom: 0;left: 50%;z-index: 0;}#sk-container-id-23 div.sk-serial {display: flex;flex-direction: column;align-items: center;background-color: white;padding-right: 0.2em;padding-left: 0.2em;position: relative;}#sk-container-id-23 div.sk-item {position: relative;z-index: 1;}#sk-container-id-23 div.sk-parallel {display: flex;align-items: stretch;justify-content: center;background-color: white;position: relative;}#sk-container-id-23 div.sk-item::before, #sk-container-id-23 div.sk-parallel-item::before {content: \"\";position: absolute;border-left: 1px solid gray;box-sizing: border-box;top: 0;bottom: 0;left: 50%;z-index: -1;}#sk-container-id-23 div.sk-parallel-item {display: flex;flex-direction: column;z-index: 1;position: relative;background-color: white;}#sk-container-id-23 div.sk-parallel-item:first-child::after {align-self: flex-end;width: 50%;}#sk-container-id-23 div.sk-parallel-item:last-child::after {align-self: flex-start;width: 50%;}#sk-container-id-23 div.sk-parallel-item:only-child::after {width: 0;}#sk-container-id-23 div.sk-dashed-wrapped {border: 1px dashed gray;margin: 0 0.4em 0.5em 0.4em;box-sizing: border-box;padding-bottom: 0.4em;background-color: white;}#sk-container-id-23 div.sk-label label {font-family: monospace;font-weight: bold;display: inline-block;line-height: 1.2em;}#sk-container-id-23 div.sk-label-container {text-align: center;}#sk-container-id-23 div.sk-container {/* jupyter's `normalize.less` sets `[hidden] { display: none; }` but bootstrap.min.css set `[hidden] { display: none !important; }` so we also need the `!important` here to be able to override the default hidden behavior on the sphinx rendered scikit-learn.org. See: https://github.com/scikit-learn/scikit-learn/issues/21755 */display: inline-block !important;position: relative;}#sk-container-id-23 div.sk-text-repr-fallback {display: none;}</style><div id=\"sk-container-id-23\" class=\"sk-top-container\"><div class=\"sk-text-repr-fallback\"><pre>Pipeline(steps=[(&#x27;kmeans&#x27;,\n",
       "                 KMeans(n_clusters=50, n_init=&#x27;auto&#x27;, random_state=42)),\n",
       "                (&#x27;log_reg&#x27;,\n",
       "                 LogisticRegression(max_iter=5000, multi_class=&#x27;ovr&#x27;,\n",
       "                                    random_state=42))])</pre><b>In a Jupyter environment, please rerun this cell to show the HTML representation or trust the notebook. <br />On GitHub, the HTML representation is unable to render, please try loading this page with nbviewer.org.</b></div><div class=\"sk-container\" hidden><div class=\"sk-item sk-dashed-wrapped\"><div class=\"sk-label-container\"><div class=\"sk-label sk-toggleable\"><input class=\"sk-toggleable__control sk-hidden--visually\" id=\"sk-estimator-id-55\" type=\"checkbox\" ><label for=\"sk-estimator-id-55\" class=\"sk-toggleable__label sk-toggleable__label-arrow\">Pipeline</label><div class=\"sk-toggleable__content\"><pre>Pipeline(steps=[(&#x27;kmeans&#x27;,\n",
       "                 KMeans(n_clusters=50, n_init=&#x27;auto&#x27;, random_state=42)),\n",
       "                (&#x27;log_reg&#x27;,\n",
       "                 LogisticRegression(max_iter=5000, multi_class=&#x27;ovr&#x27;,\n",
       "                                    random_state=42))])</pre></div></div></div><div class=\"sk-serial\"><div class=\"sk-item\"><div class=\"sk-estimator sk-toggleable\"><input class=\"sk-toggleable__control sk-hidden--visually\" id=\"sk-estimator-id-56\" type=\"checkbox\" ><label for=\"sk-estimator-id-56\" class=\"sk-toggleable__label sk-toggleable__label-arrow\">KMeans</label><div class=\"sk-toggleable__content\"><pre>KMeans(n_clusters=50, n_init=&#x27;auto&#x27;, random_state=42)</pre></div></div></div><div class=\"sk-item\"><div class=\"sk-estimator sk-toggleable\"><input class=\"sk-toggleable__control sk-hidden--visually\" id=\"sk-estimator-id-57\" type=\"checkbox\" ><label for=\"sk-estimator-id-57\" class=\"sk-toggleable__label sk-toggleable__label-arrow\">LogisticRegression</label><div class=\"sk-toggleable__content\"><pre>LogisticRegression(max_iter=5000, multi_class=&#x27;ovr&#x27;, random_state=42)</pre></div></div></div></div></div></div></div>"
      ],
      "text/plain": [
       "Pipeline(steps=[('kmeans',\n",
       "                 KMeans(n_clusters=50, n_init='auto', random_state=42)),\n",
       "                ('log_reg',\n",
       "                 LogisticRegression(max_iter=5000, multi_class='ovr',\n",
       "                                    random_state=42))])"
      ]
     },
     "execution_count": 158,
     "metadata": {},
     "output_type": "execute_result"
    }
   ],
   "source": [
    "from sklearn.cluster import KMeans\n",
    "from sklearn.pipeline import Pipeline\n",
    "\n",
    "pipeline = Pipeline([\n",
    "    (\"kmeans\", KMeans(n_clusters=50, n_init='auto', random_state=42)),\n",
    "    (\"log_reg\", LogisticRegression(multi_class=\"ovr\", solver=\"lbfgs\", max_iter=5000, random_state=42))\n",
    "])\n",
    "\n",
    "pipeline.fit(X_train, y_train)"
   ]
  },
  {
   "cell_type": "code",
   "execution_count": 159,
   "id": "50f63134-1b6a-49ce-9709-eebf3a05aa8e",
   "metadata": {
    "tags": []
   },
   "outputs": [
    {
     "data": {
      "text/plain": [
       "0.9888888888888889"
      ]
     },
     "execution_count": 159,
     "metadata": {},
     "output_type": "execute_result"
    }
   ],
   "source": [
    "pipeline.score(X_test, y_test)"
   ]
  },
  {
   "cell_type": "code",
   "execution_count": 160,
   "id": "ca06f1d7-4c30-42be-9b42-1209ef971757",
   "metadata": {
    "tags": []
   },
   "outputs": [
    {
     "name": "stdout",
     "output_type": "stream",
     "text": [
      "Fitting 3 folds for each of 98 candidates, totalling 294 fits\n",
      "[CV] END ...............................kmeans__n_clusters=2; total time=   0.2s\n",
      "[CV] END ...............................kmeans__n_clusters=2; total time=   0.2s\n",
      "[CV] END ...............................kmeans__n_clusters=2; total time=   0.2s\n",
      "[CV] END ...............................kmeans__n_clusters=3; total time=   0.2s\n",
      "[CV] END ...............................kmeans__n_clusters=3; total time=   0.2s\n",
      "[CV] END ...............................kmeans__n_clusters=3; total time=   0.2s\n",
      "[CV] END ...............................kmeans__n_clusters=4; total time=   0.2s\n",
      "[CV] END ...............................kmeans__n_clusters=4; total time=   0.2s\n",
      "[CV] END ...............................kmeans__n_clusters=4; total time=   0.2s\n",
      "[CV] END ...............................kmeans__n_clusters=5; total time=   0.3s\n",
      "[CV] END ...............................kmeans__n_clusters=5; total time=   0.3s\n",
      "[CV] END ...............................kmeans__n_clusters=5; total time=   0.3s\n",
      "[CV] END ...............................kmeans__n_clusters=6; total time=   0.3s\n",
      "[CV] END ...............................kmeans__n_clusters=6; total time=   0.3s\n",
      "[CV] END ...............................kmeans__n_clusters=6; total time=   0.3s\n",
      "[CV] END ...............................kmeans__n_clusters=7; total time=   0.3s\n",
      "[CV] END ...............................kmeans__n_clusters=7; total time=   0.3s\n",
      "[CV] END ...............................kmeans__n_clusters=7; total time=   0.3s\n",
      "[CV] END ...............................kmeans__n_clusters=8; total time=   0.4s\n",
      "[CV] END ...............................kmeans__n_clusters=8; total time=   0.4s\n",
      "[CV] END ...............................kmeans__n_clusters=8; total time=   0.4s\n",
      "[CV] END ...............................kmeans__n_clusters=9; total time=   0.5s\n",
      "[CV] END ...............................kmeans__n_clusters=9; total time=   0.4s\n",
      "[CV] END ...............................kmeans__n_clusters=9; total time=   0.4s\n",
      "[CV] END ..............................kmeans__n_clusters=10; total time=   0.5s\n",
      "[CV] END ..............................kmeans__n_clusters=10; total time=   0.6s\n",
      "[CV] END ..............................kmeans__n_clusters=10; total time=   0.5s\n",
      "[CV] END ..............................kmeans__n_clusters=11; total time=   1.2s\n",
      "[CV] END ..............................kmeans__n_clusters=11; total time=   1.2s\n",
      "[CV] END ..............................kmeans__n_clusters=11; total time=   1.2s\n",
      "[CV] END ..............................kmeans__n_clusters=12; total time=   1.6s\n",
      "[CV] END ..............................kmeans__n_clusters=12; total time=   1.6s\n",
      "[CV] END ..............................kmeans__n_clusters=12; total time=   1.4s\n",
      "[CV] END ..............................kmeans__n_clusters=13; total time=   2.2s\n",
      "[CV] END ..............................kmeans__n_clusters=13; total time=   1.7s\n",
      "[CV] END ..............................kmeans__n_clusters=13; total time=   1.5s\n",
      "[CV] END ..............................kmeans__n_clusters=14; total time=   2.1s\n",
      "[CV] END ..............................kmeans__n_clusters=14; total time=   2.0s\n",
      "[CV] END ..............................kmeans__n_clusters=14; total time=   1.8s\n",
      "[CV] END ..............................kmeans__n_clusters=15; total time=   1.9s\n",
      "[CV] END ..............................kmeans__n_clusters=15; total time=   2.2s\n",
      "[CV] END ..............................kmeans__n_clusters=15; total time=   2.0s\n",
      "[CV] END ..............................kmeans__n_clusters=16; total time=   2.6s\n",
      "[CV] END ..............................kmeans__n_clusters=16; total time=   2.3s\n",
      "[CV] END ..............................kmeans__n_clusters=16; total time=   2.5s\n",
      "[CV] END ..............................kmeans__n_clusters=17; total time=   2.7s\n",
      "[CV] END ..............................kmeans__n_clusters=17; total time=   2.4s\n",
      "[CV] END ..............................kmeans__n_clusters=17; total time=   2.5s\n",
      "[CV] END ..............................kmeans__n_clusters=18; total time=   3.1s\n",
      "[CV] END ..............................kmeans__n_clusters=18; total time=   2.7s\n",
      "[CV] END ..............................kmeans__n_clusters=18; total time=   2.8s\n",
      "[CV] END ..............................kmeans__n_clusters=19; total time=   3.1s\n",
      "[CV] END ..............................kmeans__n_clusters=19; total time=   2.8s\n",
      "[CV] END ..............................kmeans__n_clusters=19; total time=   2.9s\n",
      "[CV] END ..............................kmeans__n_clusters=20; total time=   3.2s\n",
      "[CV] END ..............................kmeans__n_clusters=20; total time=   3.3s\n",
      "[CV] END ..............................kmeans__n_clusters=20; total time=   3.3s\n",
      "[CV] END ..............................kmeans__n_clusters=21; total time=   3.6s\n",
      "[CV] END ..............................kmeans__n_clusters=21; total time=   3.5s\n",
      "[CV] END ..............................kmeans__n_clusters=21; total time=   3.6s\n",
      "[CV] END ..............................kmeans__n_clusters=22; total time=   4.0s\n",
      "[CV] END ..............................kmeans__n_clusters=22; total time=   4.0s\n",
      "[CV] END ..............................kmeans__n_clusters=22; total time=   3.9s\n",
      "[CV] END ..............................kmeans__n_clusters=23; total time=   3.9s\n",
      "[CV] END ..............................kmeans__n_clusters=23; total time=   3.5s\n",
      "[CV] END ..............................kmeans__n_clusters=23; total time=   4.0s\n",
      "[CV] END ..............................kmeans__n_clusters=24; total time=   4.1s\n",
      "[CV] END ..............................kmeans__n_clusters=24; total time=   4.0s\n",
      "[CV] END ..............................kmeans__n_clusters=24; total time=   3.9s\n",
      "[CV] END ..............................kmeans__n_clusters=25; total time=   4.4s\n",
      "[CV] END ..............................kmeans__n_clusters=25; total time=   4.0s\n",
      "[CV] END ..............................kmeans__n_clusters=25; total time=   3.8s\n",
      "[CV] END ..............................kmeans__n_clusters=26; total time=   4.5s\n",
      "[CV] END ..............................kmeans__n_clusters=26; total time=   4.9s\n",
      "[CV] END ..............................kmeans__n_clusters=26; total time=   3.8s\n",
      "[CV] END ..............................kmeans__n_clusters=27; total time=   4.1s\n",
      "[CV] END ..............................kmeans__n_clusters=27; total time=   4.5s\n",
      "[CV] END ..............................kmeans__n_clusters=27; total time=   4.7s\n",
      "[CV] END ..............................kmeans__n_clusters=28; total time=   4.1s\n",
      "[CV] END ..............................kmeans__n_clusters=28; total time=   4.7s\n",
      "[CV] END ..............................kmeans__n_clusters=28; total time=   4.2s\n",
      "[CV] END ..............................kmeans__n_clusters=29; total time=   4.6s\n",
      "[CV] END ..............................kmeans__n_clusters=29; total time=   4.3s\n",
      "[CV] END ..............................kmeans__n_clusters=29; total time=   4.6s\n",
      "[CV] END ..............................kmeans__n_clusters=30; total time=   5.0s\n",
      "[CV] END ..............................kmeans__n_clusters=30; total time=   4.9s\n",
      "[CV] END ..............................kmeans__n_clusters=30; total time=   4.9s\n",
      "[CV] END ..............................kmeans__n_clusters=31; total time=   4.7s\n",
      "[CV] END ..............................kmeans__n_clusters=31; total time=   4.0s\n",
      "[CV] END ..............................kmeans__n_clusters=31; total time=   4.7s\n",
      "[CV] END ..............................kmeans__n_clusters=32; total time=   4.9s\n",
      "[CV] END ..............................kmeans__n_clusters=32; total time=   4.5s\n",
      "[CV] END ..............................kmeans__n_clusters=32; total time=   4.7s\n",
      "[CV] END ..............................kmeans__n_clusters=33; total time=   4.8s\n",
      "[CV] END ..............................kmeans__n_clusters=33; total time=   4.4s\n",
      "[CV] END ..............................kmeans__n_clusters=33; total time=   4.4s\n",
      "[CV] END ..............................kmeans__n_clusters=34; total time=   5.1s\n",
      "[CV] END ..............................kmeans__n_clusters=34; total time=   3.9s\n",
      "[CV] END ..............................kmeans__n_clusters=34; total time=   4.9s\n",
      "[CV] END ..............................kmeans__n_clusters=35; total time=   5.4s\n",
      "[CV] END ..............................kmeans__n_clusters=35; total time=   4.2s\n",
      "[CV] END ..............................kmeans__n_clusters=35; total time=   4.9s\n",
      "[CV] END ..............................kmeans__n_clusters=36; total time=   4.8s\n",
      "[CV] END ..............................kmeans__n_clusters=36; total time=   4.2s\n",
      "[CV] END ..............................kmeans__n_clusters=36; total time=   5.1s\n",
      "[CV] END ..............................kmeans__n_clusters=37; total time=   5.4s\n",
      "[CV] END ..............................kmeans__n_clusters=37; total time=   4.2s\n",
      "[CV] END ..............................kmeans__n_clusters=37; total time=   5.4s\n",
      "[CV] END ..............................kmeans__n_clusters=38; total time=   4.9s\n",
      "[CV] END ..............................kmeans__n_clusters=38; total time=   4.0s\n",
      "[CV] END ..............................kmeans__n_clusters=38; total time=   5.4s\n",
      "[CV] END ..............................kmeans__n_clusters=39; total time=   5.1s\n",
      "[CV] END ..............................kmeans__n_clusters=39; total time=   4.2s\n",
      "[CV] END ..............................kmeans__n_clusters=39; total time=   4.8s\n",
      "[CV] END ..............................kmeans__n_clusters=40; total time=   5.4s\n",
      "[CV] END ..............................kmeans__n_clusters=40; total time=   3.7s\n",
      "[CV] END ..............................kmeans__n_clusters=40; total time=   5.3s\n",
      "[CV] END ..............................kmeans__n_clusters=41; total time=   4.9s\n",
      "[CV] END ..............................kmeans__n_clusters=41; total time=   4.8s\n",
      "[CV] END ..............................kmeans__n_clusters=41; total time=   5.4s\n",
      "[CV] END ..............................kmeans__n_clusters=42; total time=   5.1s\n",
      "[CV] END ..............................kmeans__n_clusters=42; total time=   4.3s\n",
      "[CV] END ..............................kmeans__n_clusters=42; total time=   5.6s\n",
      "[CV] END ..............................kmeans__n_clusters=43; total time=   5.3s\n",
      "[CV] END ..............................kmeans__n_clusters=43; total time=   4.3s\n",
      "[CV] END ..............................kmeans__n_clusters=43; total time=   5.3s\n",
      "[CV] END ..............................kmeans__n_clusters=44; total time=   5.2s\n",
      "[CV] END ..............................kmeans__n_clusters=44; total time=   4.2s\n",
      "[CV] END ..............................kmeans__n_clusters=44; total time=   5.6s\n",
      "[CV] END ..............................kmeans__n_clusters=45; total time=   5.9s\n",
      "[CV] END ..............................kmeans__n_clusters=45; total time=   4.5s\n",
      "[CV] END ..............................kmeans__n_clusters=45; total time=   5.3s\n",
      "[CV] END ..............................kmeans__n_clusters=46; total time=   5.6s\n",
      "[CV] END ..............................kmeans__n_clusters=46; total time=   4.4s\n",
      "[CV] END ..............................kmeans__n_clusters=46; total time=   5.6s\n",
      "[CV] END ..............................kmeans__n_clusters=47; total time=   5.7s\n",
      "[CV] END ..............................kmeans__n_clusters=47; total time=   4.9s\n",
      "[CV] END ..............................kmeans__n_clusters=47; total time=   6.0s\n",
      "[CV] END ..............................kmeans__n_clusters=48; total time=   5.9s\n",
      "[CV] END ..............................kmeans__n_clusters=48; total time=   5.1s\n",
      "[CV] END ..............................kmeans__n_clusters=48; total time=   6.2s\n",
      "[CV] END ..............................kmeans__n_clusters=49; total time=   6.0s\n",
      "[CV] END ..............................kmeans__n_clusters=49; total time=   4.8s\n",
      "[CV] END ..............................kmeans__n_clusters=49; total time=   6.7s\n",
      "[CV] END ..............................kmeans__n_clusters=50; total time=   5.6s\n",
      "[CV] END ..............................kmeans__n_clusters=50; total time=   4.7s\n",
      "[CV] END ..............................kmeans__n_clusters=50; total time=   5.9s\n",
      "[CV] END ..............................kmeans__n_clusters=51; total time=   5.9s\n",
      "[CV] END ..............................kmeans__n_clusters=51; total time=   4.5s\n",
      "[CV] END ..............................kmeans__n_clusters=51; total time=   5.3s\n",
      "[CV] END ..............................kmeans__n_clusters=52; total time=   6.1s\n",
      "[CV] END ..............................kmeans__n_clusters=52; total time=   4.1s\n",
      "[CV] END ..............................kmeans__n_clusters=52; total time=   5.9s\n",
      "[CV] END ..............................kmeans__n_clusters=53; total time=   5.7s\n",
      "[CV] END ..............................kmeans__n_clusters=53; total time=   4.6s\n",
      "[CV] END ..............................kmeans__n_clusters=53; total time=   6.3s\n",
      "[CV] END ..............................kmeans__n_clusters=54; total time=   5.9s\n",
      "[CV] END ..............................kmeans__n_clusters=54; total time=   4.7s\n",
      "[CV] END ..............................kmeans__n_clusters=54; total time=   6.3s\n",
      "[CV] END ..............................kmeans__n_clusters=55; total time=   5.9s\n",
      "[CV] END ..............................kmeans__n_clusters=55; total time=   5.3s\n",
      "[CV] END ..............................kmeans__n_clusters=55; total time=   5.5s\n",
      "[CV] END ..............................kmeans__n_clusters=56; total time=   6.1s\n",
      "[CV] END ..............................kmeans__n_clusters=56; total time=   5.2s\n",
      "[CV] END ..............................kmeans__n_clusters=56; total time=   5.2s\n",
      "[CV] END ..............................kmeans__n_clusters=57; total time=   5.4s\n",
      "[CV] END ..............................kmeans__n_clusters=57; total time=   5.0s\n",
      "[CV] END ..............................kmeans__n_clusters=57; total time=   5.2s\n",
      "[CV] END ..............................kmeans__n_clusters=58; total time=   6.7s\n",
      "[CV] END ..............................kmeans__n_clusters=58; total time=   5.2s\n",
      "[CV] END ..............................kmeans__n_clusters=58; total time=   5.4s\n",
      "[CV] END ..............................kmeans__n_clusters=59; total time=   5.9s\n",
      "[CV] END ..............................kmeans__n_clusters=59; total time=   5.7s\n",
      "[CV] END ..............................kmeans__n_clusters=59; total time=   4.8s\n",
      "[CV] END ..............................kmeans__n_clusters=60; total time=   6.5s\n",
      "[CV] END ..............................kmeans__n_clusters=60; total time=   4.7s\n",
      "[CV] END ..............................kmeans__n_clusters=60; total time=   4.8s\n",
      "[CV] END ..............................kmeans__n_clusters=61; total time=   6.2s\n",
      "[CV] END ..............................kmeans__n_clusters=61; total time=   4.8s\n",
      "[CV] END ..............................kmeans__n_clusters=61; total time=   4.7s\n",
      "[CV] END ..............................kmeans__n_clusters=62; total time=   6.6s\n",
      "[CV] END ..............................kmeans__n_clusters=62; total time=   5.4s\n",
      "[CV] END ..............................kmeans__n_clusters=62; total time=   5.4s\n",
      "[CV] END ..............................kmeans__n_clusters=63; total time=   6.6s\n",
      "[CV] END ..............................kmeans__n_clusters=63; total time=   5.1s\n",
      "[CV] END ..............................kmeans__n_clusters=63; total time=   5.0s\n",
      "[CV] END ..............................kmeans__n_clusters=64; total time=   6.9s\n",
      "[CV] END ..............................kmeans__n_clusters=64; total time=   4.7s\n",
      "[CV] END ..............................kmeans__n_clusters=64; total time=   5.4s\n",
      "[CV] END ..............................kmeans__n_clusters=65; total time=   6.1s\n",
      "[CV] END ..............................kmeans__n_clusters=65; total time=   5.2s\n",
      "[CV] END ..............................kmeans__n_clusters=65; total time=   5.0s\n",
      "[CV] END ..............................kmeans__n_clusters=66; total time=   6.9s\n",
      "[CV] END ..............................kmeans__n_clusters=66; total time=   5.8s\n",
      "[CV] END ..............................kmeans__n_clusters=66; total time=   5.1s\n",
      "[CV] END ..............................kmeans__n_clusters=67; total time=   6.2s\n",
      "[CV] END ..............................kmeans__n_clusters=67; total time=   4.6s\n",
      "[CV] END ..............................kmeans__n_clusters=67; total time=   5.4s\n",
      "[CV] END ..............................kmeans__n_clusters=68; total time=   6.1s\n",
      "[CV] END ..............................kmeans__n_clusters=68; total time=   5.4s\n",
      "[CV] END ..............................kmeans__n_clusters=68; total time=   5.6s\n",
      "[CV] END ..............................kmeans__n_clusters=69; total time=   6.9s\n",
      "[CV] END ..............................kmeans__n_clusters=69; total time=   5.4s\n",
      "[CV] END ..............................kmeans__n_clusters=69; total time=   5.3s\n",
      "[CV] END ..............................kmeans__n_clusters=70; total time=   6.6s\n",
      "[CV] END ..............................kmeans__n_clusters=70; total time=   5.3s\n",
      "[CV] END ..............................kmeans__n_clusters=70; total time=   5.7s\n",
      "[CV] END ..............................kmeans__n_clusters=71; total time=   6.0s\n",
      "[CV] END ..............................kmeans__n_clusters=71; total time=   5.1s\n",
      "[CV] END ..............................kmeans__n_clusters=71; total time=   5.2s\n",
      "[CV] END ..............................kmeans__n_clusters=72; total time=   6.5s\n",
      "[CV] END ..............................kmeans__n_clusters=72; total time=   5.5s\n",
      "[CV] END ..............................kmeans__n_clusters=72; total time=   5.5s\n",
      "[CV] END ..............................kmeans__n_clusters=73; total time=   6.0s\n",
      "[CV] END ..............................kmeans__n_clusters=73; total time=   5.4s\n",
      "[CV] END ..............................kmeans__n_clusters=73; total time=   5.9s\n",
      "[CV] END ..............................kmeans__n_clusters=74; total time=   6.7s\n",
      "[CV] END ..............................kmeans__n_clusters=74; total time=   5.1s\n",
      "[CV] END ..............................kmeans__n_clusters=74; total time=   6.0s\n",
      "[CV] END ..............................kmeans__n_clusters=75; total time=   6.3s\n",
      "[CV] END ..............................kmeans__n_clusters=75; total time=   5.0s\n",
      "[CV] END ..............................kmeans__n_clusters=75; total time=   5.2s\n",
      "[CV] END ..............................kmeans__n_clusters=76; total time=   6.4s\n",
      "[CV] END ..............................kmeans__n_clusters=76; total time=   4.7s\n",
      "[CV] END ..............................kmeans__n_clusters=76; total time=   5.7s\n",
      "[CV] END ..............................kmeans__n_clusters=77; total time=   6.2s\n",
      "[CV] END ..............................kmeans__n_clusters=77; total time=   5.4s\n",
      "[CV] END ..............................kmeans__n_clusters=77; total time=   6.5s\n",
      "[CV] END ..............................kmeans__n_clusters=78; total time=   6.2s\n",
      "[CV] END ..............................kmeans__n_clusters=78; total time=   5.4s\n",
      "[CV] END ..............................kmeans__n_clusters=78; total time=   6.1s\n",
      "[CV] END ..............................kmeans__n_clusters=79; total time=   5.6s\n",
      "[CV] END ..............................kmeans__n_clusters=79; total time=   5.7s\n",
      "[CV] END ..............................kmeans__n_clusters=79; total time=   6.0s\n",
      "[CV] END ..............................kmeans__n_clusters=80; total time=   6.0s\n",
      "[CV] END ..............................kmeans__n_clusters=80; total time=   5.3s\n",
      "[CV] END ..............................kmeans__n_clusters=80; total time=   6.1s\n",
      "[CV] END ..............................kmeans__n_clusters=81; total time=   6.2s\n",
      "[CV] END ..............................kmeans__n_clusters=81; total time=   4.9s\n",
      "[CV] END ..............................kmeans__n_clusters=81; total time=   7.2s\n",
      "[CV] END ..............................kmeans__n_clusters=82; total time=   5.3s\n",
      "[CV] END ..............................kmeans__n_clusters=82; total time=   5.1s\n",
      "[CV] END ..............................kmeans__n_clusters=82; total time=   6.1s\n",
      "[CV] END ..............................kmeans__n_clusters=83; total time=   6.2s\n",
      "[CV] END ..............................kmeans__n_clusters=83; total time=   5.4s\n",
      "[CV] END ..............................kmeans__n_clusters=83; total time=   6.3s\n",
      "[CV] END ..............................kmeans__n_clusters=84; total time=   6.1s\n",
      "[CV] END ..............................kmeans__n_clusters=84; total time=   5.1s\n",
      "[CV] END ..............................kmeans__n_clusters=84; total time=   6.6s\n",
      "[CV] END ..............................kmeans__n_clusters=85; total time=   6.6s\n",
      "[CV] END ..............................kmeans__n_clusters=85; total time=   5.5s\n",
      "[CV] END ..............................kmeans__n_clusters=85; total time=   6.7s\n",
      "[CV] END ..............................kmeans__n_clusters=86; total time=   6.2s\n",
      "[CV] END ..............................kmeans__n_clusters=86; total time=   5.8s\n",
      "[CV] END ..............................kmeans__n_clusters=86; total time=   6.5s\n",
      "[CV] END ..............................kmeans__n_clusters=87; total time=   6.4s\n",
      "[CV] END ..............................kmeans__n_clusters=87; total time=   5.8s\n",
      "[CV] END ..............................kmeans__n_clusters=87; total time=   6.4s\n",
      "[CV] END ..............................kmeans__n_clusters=88; total time=   6.3s\n",
      "[CV] END ..............................kmeans__n_clusters=88; total time=   5.6s\n",
      "[CV] END ..............................kmeans__n_clusters=88; total time=   6.0s\n",
      "[CV] END ..............................kmeans__n_clusters=89; total time=   6.4s\n",
      "[CV] END ..............................kmeans__n_clusters=89; total time=   4.5s\n",
      "[CV] END ..............................kmeans__n_clusters=89; total time=   6.4s\n",
      "[CV] END ..............................kmeans__n_clusters=90; total time=   5.9s\n",
      "[CV] END ..............................kmeans__n_clusters=90; total time=   4.9s\n",
      "[CV] END ..............................kmeans__n_clusters=90; total time=   7.1s\n",
      "[CV] END ..............................kmeans__n_clusters=91; total time=   5.7s\n",
      "[CV] END ..............................kmeans__n_clusters=91; total time=   5.2s\n",
      "[CV] END ..............................kmeans__n_clusters=91; total time=   6.3s\n",
      "[CV] END ..............................kmeans__n_clusters=92; total time=   5.7s\n",
      "[CV] END ..............................kmeans__n_clusters=92; total time=   5.6s\n",
      "[CV] END ..............................kmeans__n_clusters=92; total time=   5.9s\n",
      "[CV] END ..............................kmeans__n_clusters=93; total time=   6.5s\n",
      "[CV] END ..............................kmeans__n_clusters=93; total time=   5.6s\n",
      "[CV] END ..............................kmeans__n_clusters=93; total time=   6.9s\n",
      "[CV] END ..............................kmeans__n_clusters=94; total time=   6.9s\n",
      "[CV] END ..............................kmeans__n_clusters=94; total time=   5.3s\n",
      "[CV] END ..............................kmeans__n_clusters=94; total time=   7.3s\n",
      "[CV] END ..............................kmeans__n_clusters=95; total time=   7.1s\n",
      "[CV] END ..............................kmeans__n_clusters=95; total time=   4.8s\n",
      "[CV] END ..............................kmeans__n_clusters=95; total time=   6.7s\n",
      "[CV] END ..............................kmeans__n_clusters=96; total time=   6.3s\n",
      "[CV] END ..............................kmeans__n_clusters=96; total time=   5.1s\n",
      "[CV] END ..............................kmeans__n_clusters=96; total time=   6.1s\n",
      "[CV] END ..............................kmeans__n_clusters=97; total time=   5.8s\n",
      "[CV] END ..............................kmeans__n_clusters=97; total time=   6.0s\n",
      "[CV] END ..............................kmeans__n_clusters=97; total time=   6.6s\n",
      "[CV] END ..............................kmeans__n_clusters=98; total time=   6.5s\n",
      "[CV] END ..............................kmeans__n_clusters=98; total time=   6.1s\n",
      "[CV] END ..............................kmeans__n_clusters=98; total time=   7.2s\n",
      "[CV] END ..............................kmeans__n_clusters=99; total time=   6.4s\n",
      "[CV] END ..............................kmeans__n_clusters=99; total time=   5.4s\n",
      "[CV] END ..............................kmeans__n_clusters=99; total time=   6.4s\n"
     ]
    },
    {
     "data": {
      "text/html": [
       "<style>#sk-container-id-24 {color: black;background-color: white;}#sk-container-id-24 pre{padding: 0;}#sk-container-id-24 div.sk-toggleable {background-color: white;}#sk-container-id-24 label.sk-toggleable__label {cursor: pointer;display: block;width: 100%;margin-bottom: 0;padding: 0.3em;box-sizing: border-box;text-align: center;}#sk-container-id-24 label.sk-toggleable__label-arrow:before {content: \"▸\";float: left;margin-right: 0.25em;color: #696969;}#sk-container-id-24 label.sk-toggleable__label-arrow:hover:before {color: black;}#sk-container-id-24 div.sk-estimator:hover label.sk-toggleable__label-arrow:before {color: black;}#sk-container-id-24 div.sk-toggleable__content {max-height: 0;max-width: 0;overflow: hidden;text-align: left;background-color: #f0f8ff;}#sk-container-id-24 div.sk-toggleable__content pre {margin: 0.2em;color: black;border-radius: 0.25em;background-color: #f0f8ff;}#sk-container-id-24 input.sk-toggleable__control:checked~div.sk-toggleable__content {max-height: 200px;max-width: 100%;overflow: auto;}#sk-container-id-24 input.sk-toggleable__control:checked~label.sk-toggleable__label-arrow:before {content: \"▾\";}#sk-container-id-24 div.sk-estimator input.sk-toggleable__control:checked~label.sk-toggleable__label {background-color: #d4ebff;}#sk-container-id-24 div.sk-label input.sk-toggleable__control:checked~label.sk-toggleable__label {background-color: #d4ebff;}#sk-container-id-24 input.sk-hidden--visually {border: 0;clip: rect(1px 1px 1px 1px);clip: rect(1px, 1px, 1px, 1px);height: 1px;margin: -1px;overflow: hidden;padding: 0;position: absolute;width: 1px;}#sk-container-id-24 div.sk-estimator {font-family: monospace;background-color: #f0f8ff;border: 1px dotted black;border-radius: 0.25em;box-sizing: border-box;margin-bottom: 0.5em;}#sk-container-id-24 div.sk-estimator:hover {background-color: #d4ebff;}#sk-container-id-24 div.sk-parallel-item::after {content: \"\";width: 100%;border-bottom: 1px solid gray;flex-grow: 1;}#sk-container-id-24 div.sk-label:hover label.sk-toggleable__label {background-color: #d4ebff;}#sk-container-id-24 div.sk-serial::before {content: \"\";position: absolute;border-left: 1px solid gray;box-sizing: border-box;top: 0;bottom: 0;left: 50%;z-index: 0;}#sk-container-id-24 div.sk-serial {display: flex;flex-direction: column;align-items: center;background-color: white;padding-right: 0.2em;padding-left: 0.2em;position: relative;}#sk-container-id-24 div.sk-item {position: relative;z-index: 1;}#sk-container-id-24 div.sk-parallel {display: flex;align-items: stretch;justify-content: center;background-color: white;position: relative;}#sk-container-id-24 div.sk-item::before, #sk-container-id-24 div.sk-parallel-item::before {content: \"\";position: absolute;border-left: 1px solid gray;box-sizing: border-box;top: 0;bottom: 0;left: 50%;z-index: -1;}#sk-container-id-24 div.sk-parallel-item {display: flex;flex-direction: column;z-index: 1;position: relative;background-color: white;}#sk-container-id-24 div.sk-parallel-item:first-child::after {align-self: flex-end;width: 50%;}#sk-container-id-24 div.sk-parallel-item:last-child::after {align-self: flex-start;width: 50%;}#sk-container-id-24 div.sk-parallel-item:only-child::after {width: 0;}#sk-container-id-24 div.sk-dashed-wrapped {border: 1px dashed gray;margin: 0 0.4em 0.5em 0.4em;box-sizing: border-box;padding-bottom: 0.4em;background-color: white;}#sk-container-id-24 div.sk-label label {font-family: monospace;font-weight: bold;display: inline-block;line-height: 1.2em;}#sk-container-id-24 div.sk-label-container {text-align: center;}#sk-container-id-24 div.sk-container {/* jupyter's `normalize.less` sets `[hidden] { display: none; }` but bootstrap.min.css set `[hidden] { display: none !important; }` so we also need the `!important` here to be able to override the default hidden behavior on the sphinx rendered scikit-learn.org. See: https://github.com/scikit-learn/scikit-learn/issues/21755 */display: inline-block !important;position: relative;}#sk-container-id-24 div.sk-text-repr-fallback {display: none;}</style><div id=\"sk-container-id-24\" class=\"sk-top-container\"><div class=\"sk-text-repr-fallback\"><pre>GridSearchCV(cv=3,\n",
       "             estimator=Pipeline(steps=[(&#x27;kmeans&#x27;,\n",
       "                                        KMeans(n_clusters=50, n_init=&#x27;auto&#x27;,\n",
       "                                               random_state=42)),\n",
       "                                       (&#x27;log_reg&#x27;,\n",
       "                                        LogisticRegression(max_iter=5000,\n",
       "                                                           multi_class=&#x27;ovr&#x27;,\n",
       "                                                           random_state=42))]),\n",
       "             param_grid={&#x27;kmeans__n_clusters&#x27;: range(2, 100)}, verbose=2)</pre><b>In a Jupyter environment, please rerun this cell to show the HTML representation or trust the notebook. <br />On GitHub, the HTML representation is unable to render, please try loading this page with nbviewer.org.</b></div><div class=\"sk-container\" hidden><div class=\"sk-item sk-dashed-wrapped\"><div class=\"sk-label-container\"><div class=\"sk-label sk-toggleable\"><input class=\"sk-toggleable__control sk-hidden--visually\" id=\"sk-estimator-id-58\" type=\"checkbox\" ><label for=\"sk-estimator-id-58\" class=\"sk-toggleable__label sk-toggleable__label-arrow\">GridSearchCV</label><div class=\"sk-toggleable__content\"><pre>GridSearchCV(cv=3,\n",
       "             estimator=Pipeline(steps=[(&#x27;kmeans&#x27;,\n",
       "                                        KMeans(n_clusters=50, n_init=&#x27;auto&#x27;,\n",
       "                                               random_state=42)),\n",
       "                                       (&#x27;log_reg&#x27;,\n",
       "                                        LogisticRegression(max_iter=5000,\n",
       "                                                           multi_class=&#x27;ovr&#x27;,\n",
       "                                                           random_state=42))]),\n",
       "             param_grid={&#x27;kmeans__n_clusters&#x27;: range(2, 100)}, verbose=2)</pre></div></div></div><div class=\"sk-parallel\"><div class=\"sk-parallel-item\"><div class=\"sk-item\"><div class=\"sk-label-container\"><div class=\"sk-label sk-toggleable\"><input class=\"sk-toggleable__control sk-hidden--visually\" id=\"sk-estimator-id-59\" type=\"checkbox\" ><label for=\"sk-estimator-id-59\" class=\"sk-toggleable__label sk-toggleable__label-arrow\">estimator: Pipeline</label><div class=\"sk-toggleable__content\"><pre>Pipeline(steps=[(&#x27;kmeans&#x27;,\n",
       "                 KMeans(n_clusters=50, n_init=&#x27;auto&#x27;, random_state=42)),\n",
       "                (&#x27;log_reg&#x27;,\n",
       "                 LogisticRegression(max_iter=5000, multi_class=&#x27;ovr&#x27;,\n",
       "                                    random_state=42))])</pre></div></div></div><div class=\"sk-serial\"><div class=\"sk-item\"><div class=\"sk-serial\"><div class=\"sk-item\"><div class=\"sk-estimator sk-toggleable\"><input class=\"sk-toggleable__control sk-hidden--visually\" id=\"sk-estimator-id-60\" type=\"checkbox\" ><label for=\"sk-estimator-id-60\" class=\"sk-toggleable__label sk-toggleable__label-arrow\">KMeans</label><div class=\"sk-toggleable__content\"><pre>KMeans(n_clusters=50, n_init=&#x27;auto&#x27;, random_state=42)</pre></div></div></div><div class=\"sk-item\"><div class=\"sk-estimator sk-toggleable\"><input class=\"sk-toggleable__control sk-hidden--visually\" id=\"sk-estimator-id-61\" type=\"checkbox\" ><label for=\"sk-estimator-id-61\" class=\"sk-toggleable__label sk-toggleable__label-arrow\">LogisticRegression</label><div class=\"sk-toggleable__content\"><pre>LogisticRegression(max_iter=5000, multi_class=&#x27;ovr&#x27;, random_state=42)</pre></div></div></div></div></div></div></div></div></div></div></div></div>"
      ],
      "text/plain": [
       "GridSearchCV(cv=3,\n",
       "             estimator=Pipeline(steps=[('kmeans',\n",
       "                                        KMeans(n_clusters=50, n_init='auto',\n",
       "                                               random_state=42)),\n",
       "                                       ('log_reg',\n",
       "                                        LogisticRegression(max_iter=5000,\n",
       "                                                           multi_class='ovr',\n",
       "                                                           random_state=42))]),\n",
       "             param_grid={'kmeans__n_clusters': range(2, 100)}, verbose=2)"
      ]
     },
     "execution_count": 160,
     "metadata": {},
     "output_type": "execute_result"
    }
   ],
   "source": [
    "from sklearn.model_selection import GridSearchCV\n",
    "\n",
    "param_grid = dict(kmeans__n_clusters=range(2, 100))\n",
    "grid_clf = GridSearchCV(pipeline, param_grid, cv=3, verbose=2)\n",
    "grid_clf.fit(X_train, y_train)"
   ]
  },
  {
   "cell_type": "code",
   "execution_count": 161,
   "id": "264ec744-99c5-4bad-9eb1-43a01ab2c1a9",
   "metadata": {
    "tags": []
   },
   "outputs": [
    {
     "data": {
      "text/plain": [
       "{'kmeans__n_clusters': 87}"
      ]
     },
     "execution_count": 161,
     "metadata": {},
     "output_type": "execute_result"
    }
   ],
   "source": [
    "grid_clf.best_params_"
   ]
  },
  {
   "cell_type": "code",
   "execution_count": 162,
   "id": "d9bc3624-10ad-4f8a-b7bf-226f6b86e6fe",
   "metadata": {
    "tags": []
   },
   "outputs": [
    {
     "data": {
      "text/plain": [
       "0.9866666666666667"
      ]
     },
     "execution_count": 162,
     "metadata": {},
     "output_type": "execute_result"
    }
   ],
   "source": [
    "grid_clf.score(X_test, y_test)"
   ]
  },
  {
   "cell_type": "code",
   "execution_count": 163,
   "id": "d197c13e-196a-402a-819e-9efd393de1ab",
   "metadata": {},
   "outputs": [
    {
     "data": {
      "text/html": [
       "<style>#sk-container-id-25 {color: black;background-color: white;}#sk-container-id-25 pre{padding: 0;}#sk-container-id-25 div.sk-toggleable {background-color: white;}#sk-container-id-25 label.sk-toggleable__label {cursor: pointer;display: block;width: 100%;margin-bottom: 0;padding: 0.3em;box-sizing: border-box;text-align: center;}#sk-container-id-25 label.sk-toggleable__label-arrow:before {content: \"▸\";float: left;margin-right: 0.25em;color: #696969;}#sk-container-id-25 label.sk-toggleable__label-arrow:hover:before {color: black;}#sk-container-id-25 div.sk-estimator:hover label.sk-toggleable__label-arrow:before {color: black;}#sk-container-id-25 div.sk-toggleable__content {max-height: 0;max-width: 0;overflow: hidden;text-align: left;background-color: #f0f8ff;}#sk-container-id-25 div.sk-toggleable__content pre {margin: 0.2em;color: black;border-radius: 0.25em;background-color: #f0f8ff;}#sk-container-id-25 input.sk-toggleable__control:checked~div.sk-toggleable__content {max-height: 200px;max-width: 100%;overflow: auto;}#sk-container-id-25 input.sk-toggleable__control:checked~label.sk-toggleable__label-arrow:before {content: \"▾\";}#sk-container-id-25 div.sk-estimator input.sk-toggleable__control:checked~label.sk-toggleable__label {background-color: #d4ebff;}#sk-container-id-25 div.sk-label input.sk-toggleable__control:checked~label.sk-toggleable__label {background-color: #d4ebff;}#sk-container-id-25 input.sk-hidden--visually {border: 0;clip: rect(1px 1px 1px 1px);clip: rect(1px, 1px, 1px, 1px);height: 1px;margin: -1px;overflow: hidden;padding: 0;position: absolute;width: 1px;}#sk-container-id-25 div.sk-estimator {font-family: monospace;background-color: #f0f8ff;border: 1px dotted black;border-radius: 0.25em;box-sizing: border-box;margin-bottom: 0.5em;}#sk-container-id-25 div.sk-estimator:hover {background-color: #d4ebff;}#sk-container-id-25 div.sk-parallel-item::after {content: \"\";width: 100%;border-bottom: 1px solid gray;flex-grow: 1;}#sk-container-id-25 div.sk-label:hover label.sk-toggleable__label {background-color: #d4ebff;}#sk-container-id-25 div.sk-serial::before {content: \"\";position: absolute;border-left: 1px solid gray;box-sizing: border-box;top: 0;bottom: 0;left: 50%;z-index: 0;}#sk-container-id-25 div.sk-serial {display: flex;flex-direction: column;align-items: center;background-color: white;padding-right: 0.2em;padding-left: 0.2em;position: relative;}#sk-container-id-25 div.sk-item {position: relative;z-index: 1;}#sk-container-id-25 div.sk-parallel {display: flex;align-items: stretch;justify-content: center;background-color: white;position: relative;}#sk-container-id-25 div.sk-item::before, #sk-container-id-25 div.sk-parallel-item::before {content: \"\";position: absolute;border-left: 1px solid gray;box-sizing: border-box;top: 0;bottom: 0;left: 50%;z-index: -1;}#sk-container-id-25 div.sk-parallel-item {display: flex;flex-direction: column;z-index: 1;position: relative;background-color: white;}#sk-container-id-25 div.sk-parallel-item:first-child::after {align-self: flex-end;width: 50%;}#sk-container-id-25 div.sk-parallel-item:last-child::after {align-self: flex-start;width: 50%;}#sk-container-id-25 div.sk-parallel-item:only-child::after {width: 0;}#sk-container-id-25 div.sk-dashed-wrapped {border: 1px dashed gray;margin: 0 0.4em 0.5em 0.4em;box-sizing: border-box;padding-bottom: 0.4em;background-color: white;}#sk-container-id-25 div.sk-label label {font-family: monospace;font-weight: bold;display: inline-block;line-height: 1.2em;}#sk-container-id-25 div.sk-label-container {text-align: center;}#sk-container-id-25 div.sk-container {/* jupyter's `normalize.less` sets `[hidden] { display: none; }` but bootstrap.min.css set `[hidden] { display: none !important; }` so we also need the `!important` here to be able to override the default hidden behavior on the sphinx rendered scikit-learn.org. See: https://github.com/scikit-learn/scikit-learn/issues/21755 */display: inline-block !important;position: relative;}#sk-container-id-25 div.sk-text-repr-fallback {display: none;}</style><div id=\"sk-container-id-25\" class=\"sk-top-container\"><div class=\"sk-text-repr-fallback\"><pre>LogisticRegression(max_iter=5000, multi_class=&#x27;ovr&#x27;, random_state=42)</pre><b>In a Jupyter environment, please rerun this cell to show the HTML representation or trust the notebook. <br />On GitHub, the HTML representation is unable to render, please try loading this page with nbviewer.org.</b></div><div class=\"sk-container\" hidden><div class=\"sk-item\"><div class=\"sk-estimator sk-toggleable\"><input class=\"sk-toggleable__control sk-hidden--visually\" id=\"sk-estimator-id-62\" type=\"checkbox\" checked><label for=\"sk-estimator-id-62\" class=\"sk-toggleable__label sk-toggleable__label-arrow\">LogisticRegression</label><div class=\"sk-toggleable__content\"><pre>LogisticRegression(max_iter=5000, multi_class=&#x27;ovr&#x27;, random_state=42)</pre></div></div></div></div></div>"
      ],
      "text/plain": [
       "LogisticRegression(max_iter=5000, multi_class='ovr', random_state=42)"
      ]
     },
     "execution_count": 163,
     "metadata": {},
     "output_type": "execute_result"
    }
   ],
   "source": [
    "# using clustering for semi-supervised learning\n",
    "\n",
    "n_labeled = 50\n",
    "log_reg = LogisticRegression(max_iter=5000, multi_class='ovr', random_state=42)\n",
    "log_reg.fit(X_train[:n_labeled], y_train[:n_labeled])"
   ]
  },
  {
   "cell_type": "code",
   "execution_count": 164,
   "id": "125c8195-ed3e-4bc6-a665-2e1c1a0e6e64",
   "metadata": {
    "tags": []
   },
   "outputs": [
    {
     "data": {
      "text/plain": [
       "0.84"
      ]
     },
     "execution_count": 164,
     "metadata": {},
     "output_type": "execute_result"
    }
   ],
   "source": [
    "log_reg.score(X_test, y_test)"
   ]
  },
  {
   "cell_type": "code",
   "execution_count": 165,
   "id": "12bf0880-37e8-4647-9560-965f2fcdc10b",
   "metadata": {
    "tags": []
   },
   "outputs": [],
   "source": [
    "import numpy as np\n",
    "k = 50\n",
    "kmeans = KMeans(n_clusters=k, n_init='auto', max_iter=5000, random_state=42)\n",
    "X_digits_dist = kmeans.fit_transform(X_train)\n",
    "representative_digit_idx = np.argmin(X_digits_dist, axis=0)\n",
    "X_representative_digits = X_train[representative_digit_idx]"
   ]
  },
  {
   "cell_type": "code",
   "execution_count": 166,
   "id": "778158ec-bd30-4074-be60-ce7830f68fc5",
   "metadata": {
    "tags": []
   },
   "outputs": [
    {
     "data": {
      "text/plain": [
       "<function matplotlib.pyplot.show(close=None, block=None)>"
      ]
     },
     "execution_count": 166,
     "metadata": {},
     "output_type": "execute_result"
    },
    {
     "data": {
      "image/png": "[encoded data removed]",
      "text/plain": [
       "<Figure size 800x200 with 50 Axes>"
      ]
     },
     "metadata": {},
     "output_type": "display_data"
    }
   ],
   "source": [
    "import matplotlib.pyplot as plt\n",
    "plt.figure(figsize=(8, 2))\n",
    "for index, X_representative_digit in enumerate(X_representative_digits):\n",
    "    plt.subplot(k // 10, 10, index + 1)\n",
    "    plt.imshow(X_representative_digit.reshape(8, 8), cmap=\"binary\", interpolation=\"bilinear\")\n",
    "    plt.axis('off')\n",
    "plt.show"
   ]
  },
  {
   "cell_type": "code",
   "execution_count": 167,
   "id": "c647a294-097a-41da-8034-d46f3d99a648",
   "metadata": {
    "tags": []
   },
   "outputs": [],
   "source": [
    "# normally we should manually label those representative digits (i.e. semi-supervised learning) but we have cheated here, using the labels in y_train\n",
    "y_representative_digits = y_train[representative_digit_idx]"
   ]
  },
  {
   "cell_type": "code",
   "execution_count": 168,
   "id": "955f7c37-82b7-4344-85c9-caf4874ea95b",
   "metadata": {
    "tags": []
   },
   "outputs": [
    {
     "data": {
      "text/html": [
       "<style>#sk-container-id-26 {color: black;background-color: white;}#sk-container-id-26 pre{padding: 0;}#sk-container-id-26 div.sk-toggleable {background-color: white;}#sk-container-id-26 label.sk-toggleable__label {cursor: pointer;display: block;width: 100%;margin-bottom: 0;padding: 0.3em;box-sizing: border-box;text-align: center;}#sk-container-id-26 label.sk-toggleable__label-arrow:before {content: \"▸\";float: left;margin-right: 0.25em;color: #696969;}#sk-container-id-26 label.sk-toggleable__label-arrow:hover:before {color: black;}#sk-container-id-26 div.sk-estimator:hover label.sk-toggleable__label-arrow:before {color: black;}#sk-container-id-26 div.sk-toggleable__content {max-height: 0;max-width: 0;overflow: hidden;text-align: left;background-color: #f0f8ff;}#sk-container-id-26 div.sk-toggleable__content pre {margin: 0.2em;color: black;border-radius: 0.25em;background-color: #f0f8ff;}#sk-container-id-26 input.sk-toggleable__control:checked~div.sk-toggleable__content {max-height: 200px;max-width: 100%;overflow: auto;}#sk-container-id-26 input.sk-toggleable__control:checked~label.sk-toggleable__label-arrow:before {content: \"▾\";}#sk-container-id-26 div.sk-estimator input.sk-toggleable__control:checked~label.sk-toggleable__label {background-color: #d4ebff;}#sk-container-id-26 div.sk-label input.sk-toggleable__control:checked~label.sk-toggleable__label {background-color: #d4ebff;}#sk-container-id-26 input.sk-hidden--visually {border: 0;clip: rect(1px 1px 1px 1px);clip: rect(1px, 1px, 1px, 1px);height: 1px;margin: -1px;overflow: hidden;padding: 0;position: absolute;width: 1px;}#sk-container-id-26 div.sk-estimator {font-family: monospace;background-color: #f0f8ff;border: 1px dotted black;border-radius: 0.25em;box-sizing: border-box;margin-bottom: 0.5em;}#sk-container-id-26 div.sk-estimator:hover {background-color: #d4ebff;}#sk-container-id-26 div.sk-parallel-item::after {content: \"\";width: 100%;border-bottom: 1px solid gray;flex-grow: 1;}#sk-container-id-26 div.sk-label:hover label.sk-toggleable__label {background-color: #d4ebff;}#sk-container-id-26 div.sk-serial::before {content: \"\";position: absolute;border-left: 1px solid gray;box-sizing: border-box;top: 0;bottom: 0;left: 50%;z-index: 0;}#sk-container-id-26 div.sk-serial {display: flex;flex-direction: column;align-items: center;background-color: white;padding-right: 0.2em;padding-left: 0.2em;position: relative;}#sk-container-id-26 div.sk-item {position: relative;z-index: 1;}#sk-container-id-26 div.sk-parallel {display: flex;align-items: stretch;justify-content: center;background-color: white;position: relative;}#sk-container-id-26 div.sk-item::before, #sk-container-id-26 div.sk-parallel-item::before {content: \"\";position: absolute;border-left: 1px solid gray;box-sizing: border-box;top: 0;bottom: 0;left: 50%;z-index: -1;}#sk-container-id-26 div.sk-parallel-item {display: flex;flex-direction: column;z-index: 1;position: relative;background-color: white;}#sk-container-id-26 div.sk-parallel-item:first-child::after {align-self: flex-end;width: 50%;}#sk-container-id-26 div.sk-parallel-item:last-child::after {align-self: flex-start;width: 50%;}#sk-container-id-26 div.sk-parallel-item:only-child::after {width: 0;}#sk-container-id-26 div.sk-dashed-wrapped {border: 1px dashed gray;margin: 0 0.4em 0.5em 0.4em;box-sizing: border-box;padding-bottom: 0.4em;background-color: white;}#sk-container-id-26 div.sk-label label {font-family: monospace;font-weight: bold;display: inline-block;line-height: 1.2em;}#sk-container-id-26 div.sk-label-container {text-align: center;}#sk-container-id-26 div.sk-container {/* jupyter's `normalize.less` sets `[hidden] { display: none; }` but bootstrap.min.css set `[hidden] { display: none !important; }` so we also need the `!important` here to be able to override the default hidden behavior on the sphinx rendered scikit-learn.org. See: https://github.com/scikit-learn/scikit-learn/issues/21755 */display: inline-block !important;position: relative;}#sk-container-id-26 div.sk-text-repr-fallback {display: none;}</style><div id=\"sk-container-id-26\" class=\"sk-top-container\"><div class=\"sk-text-repr-fallback\"><pre>LogisticRegression(max_iter=5000, multi_class=&#x27;ovr&#x27;, random_state=42)</pre><b>In a Jupyter environment, please rerun this cell to show the HTML representation or trust the notebook. <br />On GitHub, the HTML representation is unable to render, please try loading this page with nbviewer.org.</b></div><div class=\"sk-container\" hidden><div class=\"sk-item\"><div class=\"sk-estimator sk-toggleable\"><input class=\"sk-toggleable__control sk-hidden--visually\" id=\"sk-estimator-id-63\" type=\"checkbox\" checked><label for=\"sk-estimator-id-63\" class=\"sk-toggleable__label sk-toggleable__label-arrow\">LogisticRegression</label><div class=\"sk-toggleable__content\"><pre>LogisticRegression(max_iter=5000, multi_class=&#x27;ovr&#x27;, random_state=42)</pre></div></div></div></div></div>"
      ],
      "text/plain": [
       "LogisticRegression(max_iter=5000, multi_class='ovr', random_state=42)"
      ]
     },
     "execution_count": 168,
     "metadata": {},
     "output_type": "execute_result"
    }
   ],
   "source": [
    "log_reg = LogisticRegression(max_iter=5000, multi_class='ovr', random_state=42)\n",
    "log_reg.fit(X_representative_digits, y_representative_digits)"
   ]
  },
  {
   "cell_type": "code",
   "execution_count": 169,
   "id": "7349a06d-8c92-4108-8ce7-369f14e9387e",
   "metadata": {
    "tags": []
   },
   "outputs": [
    {
     "data": {
      "text/plain": [
       "0.9088888888888889"
      ]
     },
     "execution_count": 169,
     "metadata": {},
     "output_type": "execute_result"
    }
   ],
   "source": [
    "log_reg.score(X_test, y_test)"
   ]
  },
  {
   "cell_type": "code",
   "execution_count": 170,
   "id": "82c9b61d-c029-4bdb-b8f9-4580140ea0cb",
   "metadata": {
    "tags": []
   },
   "outputs": [],
   "source": [
    "# propagate the labels\n",
    "y_train_propagated = np.empty(len(X_train), dtype=np.int32)\n",
    "for i in range(k):\n",
    "    y_train_propagated[kmeans.labels_==i] = y_representative_digits[i]"
   ]
  },
  {
   "cell_type": "code",
   "execution_count": 171,
   "id": "cfc46683-4caa-49cb-b9b4-9abeb5b23d7f",
   "metadata": {
    "tags": []
   },
   "outputs": [
    {
     "data": {
      "text/plain": [
       "0.8955555555555555"
      ]
     },
     "execution_count": 171,
     "metadata": {},
     "output_type": "execute_result"
    }
   ],
   "source": [
    "log_reg = LogisticRegression(max_iter=5000, multi_class='ovr', random_state=42)\n",
    "log_reg.fit(X_train, y_train_propagated)\n",
    "log_reg.score(X_test, y_test)"
   ]
  },
  {
   "cell_type": "code",
   "execution_count": 172,
   "id": "e4157f33-612b-478a-bb52-25cc2519a0d4",
   "metadata": {
    "tags": []
   },
   "outputs": [],
   "source": [
    "# propagate the labels to only the 20% of the instances that are closest to the centroids\n",
    "\n",
    "percentile_closest = 20\n",
    "\n",
    "X_cluster_dist = X_digits_dist[np.arange(len(X_train)), kmeans.labels_]  # This is an array of distances from the instances to their cluster centroids\n",
    "for i in range(k):\n",
    "    in_cluster = (kmeans.labels_ == i)  # array of booleans indicating whether or not that instance is in the i-th cluster\n",
    "    cluster_dist = X_cluster_dist[in_cluster]  # array of distances from instances in the i-th cluster to the i-th cluster centroid.\n",
    "    cutoff_distance = np.percentile(cluster_dist, percentile_closest)  # the distance that is at 20% of the distances in the array.\n",
    "    above_cutoff = (X_cluster_dist > cutoff_distance)\n",
    "    X_cluster_dist[in_cluster & above_cutoff] = -1  # mark the instances in this cluster but beyong 20% distance cutoff to the centroid.\n",
    "\n",
    "partially_propagated = (X_cluster_dist != -1)\n",
    "X_train_partially_propagated = X_train[partially_propagated]\n",
    "y_train_partially_propagated = y_train_propagated[partially_propagated]"
   ]
  },
  {
   "cell_type": "code",
   "execution_count": 173,
   "id": "96f3316a-73cb-42de-ab24-77139c214250",
   "metadata": {
    "tags": []
   },
   "outputs": [
    {
     "data": {
      "text/plain": [
       "0.9"
      ]
     },
     "execution_count": 173,
     "metadata": {},
     "output_type": "execute_result"
    }
   ],
   "source": [
    "log_reg = LogisticRegression(max_iter=5000, multi_class='ovr', random_state=42)\n",
    "log_reg.fit(X_train_partially_propagated, y_train_partially_propagated)\n",
    "log_reg.score(X_test, y_test)"
   ]
  },
  {
   "cell_type": "code",
   "execution_count": 174,
   "id": "98743504-8af8-45c9-95e1-6714a14e3e1a",
   "metadata": {
    "tags": []
   },
   "outputs": [
    {
     "data": {
      "text/plain": [
       "0.9688581314878892"
      ]
     },
     "execution_count": 174,
     "metadata": {},
     "output_type": "execute_result"
    }
   ],
   "source": [
    "# check how accurate the propagated labels are\n",
    "np.mean(y_train_partially_propagated == y_train[partially_propagated])"
   ]
  },
  {
   "cell_type": "code",
   "execution_count": null,
   "id": "6e3c960b-7a66-43d1-91a7-c0a067cb5f7f",
   "metadata": {},
   "outputs": [],
   "source": []
  }
 ],
 "metadata": {
  "kernelspec": {
   "display_name": "Python 3 (ipykernel)",
   "language": "python",
   "name": "python3"
  },
  "language_info": {
   "codemirror_mode": {
    "name": "ipython",
    "version": 3
   },
   "file_extension": ".py",
   "mimetype": "text/x-python",
   "name": "python",
   "nbconvert_exporter": "python",
   "pygments_lexer": "ipython3",
   "version": "3.9.17"
  }
 },
 "nbformat": 4,
 "nbformat_minor": 5
}
